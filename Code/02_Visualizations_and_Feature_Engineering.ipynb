{
 "cells": [
  {
   "cell_type": "markdown",
   "metadata": {},
   "source": [
    "## <u>Visualizations and Feature Engineering<u>"
   ]
  },
  {
   "cell_type": "markdown",
   "metadata": {},
   "source": [
    "### <u>Importing Data Libraries<u>"
   ]
  },
  {
   "cell_type": "code",
   "execution_count": 1,
   "metadata": {},
   "outputs": [],
   "source": [
    "import pandas as pd\n",
    "import numpy as np\n",
    "import matplotlib.pyplot as plt\n",
    "import statsmodels.api as sm\n",
    "import seaborn as sns\n",
    "import collections\n",
    "from sklearn.linear_model import LinearRegression, LassoCV, RidgeCV\n",
    "from sklearn.preprocessing import StandardScaler, PolynomialFeatures\n",
    "from sklearn.model_selection import train_test_split, cross_val_score, KFold\n",
    "from sklearn.metrics import r2_score\n",
    "from data_preprocessing import *\n",
    "\n",
    "%matplotlib inline"
   ]
  },
  {
   "cell_type": "markdown",
   "metadata": {},
   "source": [
    "- #### Importing Clean DataFrame"
   ]
  },
  {
   "cell_type": "code",
   "execution_count": 2,
   "metadata": {},
   "outputs": [],
   "source": [
    "betting_df = pd.read_csv('../Data/betting_df.csv')"
   ]
  },
  {
   "cell_type": "markdown",
   "metadata": {},
   "source": [
    "## <u>Feature Engineering<u>"
   ]
  },
  {
   "cell_type": "markdown",
   "metadata": {},
   "source": [
    "- #### This column will show if the result of the game was over, under, or a push on the expected total points"
   ]
  },
  {
   "cell_type": "code",
   "execution_count": 3,
   "metadata": {},
   "outputs": [],
   "source": [
    "betting_df['over_under_result'] = np.where(betting_df['total_points']>betting_df['over/under'], \n",
    "                                           'over', 'under')\n",
    "betting_df['over_under_result'] = np.where(betting_df['total_points']==betting_df['over/under'], \n",
    "                                           'push', betting_df['over_under_result'])"
   ]
  },
  {
   "cell_type": "code",
   "execution_count": 4,
   "metadata": {},
   "outputs": [
    {
     "data": {
      "text/html": [
       "<div>\n",
       "<style scoped>\n",
       "    .dataframe tbody tr th:only-of-type {\n",
       "        vertical-align: middle;\n",
       "    }\n",
       "\n",
       "    .dataframe tbody tr th {\n",
       "        vertical-align: top;\n",
       "    }\n",
       "\n",
       "    .dataframe thead th {\n",
       "        text-align: right;\n",
       "    }\n",
       "</style>\n",
       "<table border=\"1\" class=\"dataframe\">\n",
       "  <thead>\n",
       "    <tr style=\"text-align: right;\">\n",
       "      <th></th>\n",
       "      <th>date</th>\n",
       "      <th>season_year</th>\n",
       "      <th>week</th>\n",
       "      <th>home_team</th>\n",
       "      <th>away_team</th>\n",
       "      <th>stadium</th>\n",
       "      <th>team_favorite</th>\n",
       "      <th>spread</th>\n",
       "      <th>over/under</th>\n",
       "      <th>stadium_type</th>\n",
       "      <th>...</th>\n",
       "      <th>total_score_over_min</th>\n",
       "      <th>total_score_over_max</th>\n",
       "      <th>total_score_over_close</th>\n",
       "      <th>total_score_under_open</th>\n",
       "      <th>total_score_under_min</th>\n",
       "      <th>total_score_under_max</th>\n",
       "      <th>total_score_under_close</th>\n",
       "      <th>score_difference</th>\n",
       "      <th>total_points</th>\n",
       "      <th>over_under_result</th>\n",
       "    </tr>\n",
       "  </thead>\n",
       "  <tbody>\n",
       "    <tr>\n",
       "      <th>0</th>\n",
       "      <td>2014-09-04</td>\n",
       "      <td>2014</td>\n",
       "      <td>1</td>\n",
       "      <td>Seattle Seahawks</td>\n",
       "      <td>Green Bay Packers</td>\n",
       "      <td>CenturyLink Field</td>\n",
       "      <td>SEA</td>\n",
       "      <td>-5.5</td>\n",
       "      <td>46.5</td>\n",
       "      <td>na</td>\n",
       "      <td>...</td>\n",
       "      <td>1.83</td>\n",
       "      <td>2.00</td>\n",
       "      <td>1.98</td>\n",
       "      <td>1.95</td>\n",
       "      <td>1.95</td>\n",
       "      <td>2.00</td>\n",
       "      <td>1.93</td>\n",
       "      <td>20</td>\n",
       "      <td>52</td>\n",
       "      <td>over</td>\n",
       "    </tr>\n",
       "    <tr>\n",
       "      <th>1</th>\n",
       "      <td>2014-09-07</td>\n",
       "      <td>2014</td>\n",
       "      <td>1</td>\n",
       "      <td>Atlanta Falcons</td>\n",
       "      <td>New Orleans Saints</td>\n",
       "      <td>Georgia Dome</td>\n",
       "      <td>NO</td>\n",
       "      <td>-3.0</td>\n",
       "      <td>52.0</td>\n",
       "      <td>DOME</td>\n",
       "      <td>...</td>\n",
       "      <td>1.94</td>\n",
       "      <td>2.01</td>\n",
       "      <td>1.96</td>\n",
       "      <td>1.95</td>\n",
       "      <td>1.92</td>\n",
       "      <td>1.97</td>\n",
       "      <td>1.94</td>\n",
       "      <td>3</td>\n",
       "      <td>71</td>\n",
       "      <td>over</td>\n",
       "    </tr>\n",
       "    <tr>\n",
       "      <th>2</th>\n",
       "      <td>2014-09-07</td>\n",
       "      <td>2014</td>\n",
       "      <td>1</td>\n",
       "      <td>Baltimore Ravens</td>\n",
       "      <td>Cincinnati Bengals</td>\n",
       "      <td>M&amp;T Bank Stadium</td>\n",
       "      <td>BAL</td>\n",
       "      <td>-1.5</td>\n",
       "      <td>42.5</td>\n",
       "      <td>na</td>\n",
       "      <td>...</td>\n",
       "      <td>1.93</td>\n",
       "      <td>1.98</td>\n",
       "      <td>1.97</td>\n",
       "      <td>1.96</td>\n",
       "      <td>1.97</td>\n",
       "      <td>2.00</td>\n",
       "      <td>1.93</td>\n",
       "      <td>-7</td>\n",
       "      <td>39</td>\n",
       "      <td>under</td>\n",
       "    </tr>\n",
       "    <tr>\n",
       "      <th>3</th>\n",
       "      <td>2014-09-07</td>\n",
       "      <td>2014</td>\n",
       "      <td>1</td>\n",
       "      <td>Chicago Bears</td>\n",
       "      <td>Buffalo Bills</td>\n",
       "      <td>Soldier Field</td>\n",
       "      <td>CHI</td>\n",
       "      <td>-6.5</td>\n",
       "      <td>47.0</td>\n",
       "      <td>na</td>\n",
       "      <td>...</td>\n",
       "      <td>1.91</td>\n",
       "      <td>2.10</td>\n",
       "      <td>1.91</td>\n",
       "      <td>2.03</td>\n",
       "      <td>1.91</td>\n",
       "      <td>1.95</td>\n",
       "      <td>2.00</td>\n",
       "      <td>-3</td>\n",
       "      <td>43</td>\n",
       "      <td>under</td>\n",
       "    </tr>\n",
       "    <tr>\n",
       "      <th>4</th>\n",
       "      <td>2014-09-07</td>\n",
       "      <td>2014</td>\n",
       "      <td>1</td>\n",
       "      <td>Dallas Cowboys</td>\n",
       "      <td>San Francisco 49ers</td>\n",
       "      <td>Cowboys Stadium</td>\n",
       "      <td>SF</td>\n",
       "      <td>-3.5</td>\n",
       "      <td>51.0</td>\n",
       "      <td>DOME</td>\n",
       "      <td>...</td>\n",
       "      <td>1.93</td>\n",
       "      <td>2.03</td>\n",
       "      <td>2.00</td>\n",
       "      <td>1.93</td>\n",
       "      <td>1.88</td>\n",
       "      <td>1.99</td>\n",
       "      <td>1.91</td>\n",
       "      <td>-11</td>\n",
       "      <td>45</td>\n",
       "      <td>under</td>\n",
       "    </tr>\n",
       "  </tbody>\n",
       "</table>\n",
       "<p>5 rows × 56 columns</p>\n",
       "</div>"
      ],
      "text/plain": [
       "         date  season_year  week         home_team            away_team  \\\n",
       "0  2014-09-04         2014     1  Seattle Seahawks    Green Bay Packers   \n",
       "1  2014-09-07         2014     1   Atlanta Falcons   New Orleans Saints   \n",
       "2  2014-09-07         2014     1  Baltimore Ravens   Cincinnati Bengals   \n",
       "3  2014-09-07         2014     1     Chicago Bears        Buffalo Bills   \n",
       "4  2014-09-07         2014     1    Dallas Cowboys  San Francisco 49ers   \n",
       "\n",
       "             stadium team_favorite  spread  over/under stadium_type  \\\n",
       "0  CenturyLink Field           SEA    -5.5        46.5           na   \n",
       "1       Georgia Dome            NO    -3.0        52.0         DOME   \n",
       "2   M&T Bank Stadium           BAL    -1.5        42.5           na   \n",
       "3      Soldier Field           CHI    -6.5        47.0           na   \n",
       "4    Cowboys Stadium            SF    -3.5        51.0         DOME   \n",
       "\n",
       "         ...          total_score_over_min  total_score_over_max  \\\n",
       "0        ...                          1.83                  2.00   \n",
       "1        ...                          1.94                  2.01   \n",
       "2        ...                          1.93                  1.98   \n",
       "3        ...                          1.91                  2.10   \n",
       "4        ...                          1.93                  2.03   \n",
       "\n",
       "   total_score_over_close  total_score_under_open  total_score_under_min  \\\n",
       "0                    1.98                    1.95                   1.95   \n",
       "1                    1.96                    1.95                   1.92   \n",
       "2                    1.97                    1.96                   1.97   \n",
       "3                    1.91                    2.03                   1.91   \n",
       "4                    2.00                    1.93                   1.88   \n",
       "\n",
       "  total_score_under_max total_score_under_close  score_difference  \\\n",
       "0                  2.00                    1.93                20   \n",
       "1                  1.97                    1.94                 3   \n",
       "2                  2.00                    1.93                -7   \n",
       "3                  1.95                    2.00                -3   \n",
       "4                  1.99                    1.91               -11   \n",
       "\n",
       "   total_points  over_under_result  \n",
       "0            52               over  \n",
       "1            71               over  \n",
       "2            39              under  \n",
       "3            43              under  \n",
       "4            45              under  \n",
       "\n",
       "[5 rows x 56 columns]"
      ]
     },
     "execution_count": 4,
     "metadata": {},
     "output_type": "execute_result"
    }
   ],
   "source": [
    "betting_df.head()"
   ]
  },
  {
   "cell_type": "markdown",
   "metadata": {},
   "source": [
    "- #### Creating a dummy column for dome stadiums and non dome stadiums"
   ]
  },
  {
   "cell_type": "code",
   "execution_count": 5,
   "metadata": {
    "scrolled": true
   },
   "outputs": [],
   "source": [
    "betting_df = pd.get_dummies(betting_df, columns=['stadium_type'])"
   ]
  },
  {
   "cell_type": "code",
   "execution_count": 6,
   "metadata": {},
   "outputs": [],
   "source": [
    "betting_df.columns = [i.lower().replace(' ', '_') for i in betting_df.columns]"
   ]
  },
  {
   "cell_type": "code",
   "execution_count": 7,
   "metadata": {},
   "outputs": [
    {
     "data": {
      "text/plain": [
       "774"
      ]
     },
     "execution_count": 7,
     "metadata": {},
     "output_type": "execute_result"
    }
   ],
   "source": [
    "betting_df['stadium_type_na'].sum()"
   ]
  },
  {
   "cell_type": "code",
   "execution_count": 8,
   "metadata": {},
   "outputs": [],
   "source": [
    "#dropping dummy NA column\n",
    "betting_df = betting_df.drop(columns=['stadium_type_na'])"
   ]
  },
  {
   "cell_type": "markdown",
   "metadata": {},
   "source": [
    "- #### Making sure the team favorite column have the same corresponding syntax for teams that have moved cities\n"
   ]
  },
  {
   "cell_type": "code",
   "execution_count": 9,
   "metadata": {
    "scrolled": true
   },
   "outputs": [],
   "source": [
    "betting_df.loc[betting_df.team_favorite =='SD','team_favorite'] = 'LAC'\n",
    "betting_df.loc[betting_df.team_favorite =='SLR','team_favorite'] = 'LAR'"
   ]
  },
  {
   "cell_type": "markdown",
   "metadata": {},
   "source": [
    "- #### Dictionary of all NFL teams then mapping the full name to the teams abbreviation using mapping"
   ]
  },
  {
   "cell_type": "code",
   "execution_count": 121,
   "metadata": {},
   "outputs": [],
   "source": [
    "nfl_teams = {'San Diego Chargers': 'LAC', 'Indianapolis Colts': 'IND','Washington Redskins': 'WAS', 'Miami Dolphins': \n",
    "'MIA', 'Buffalo Bills': 'BUF','Tennessee Oilers': 'TEN', 'Minnesota Vikings': 'MIN', 'Atlanta Falcons': 'ATL',\n",
    "'New Orleans Saints': 'NO', 'Pittsburgh Steelers': 'PIT','Kansas City Chiefs': 'KC', 'Denver Broncos': 'DEN', \n",
    "'New York Giants': 'NYG', 'Houston Oilers': 'TEN','Cleveland Browns': 'CLE', 'Philadelphia Eagles': 'PHI',\n",
    "'Dallas Cowboys': 'DAL','Arizona Cardinals': 'ARI', 'Chicago Bears': 'CHI', 'New England Patriots': 'NE',\n",
    "'San Francisco 49ers': 'SF','Tampa Bay Buccaneers': 'TB','Seattle Seahawks': 'SEA','Baltimore Ravens': 'BAL', \n",
    "'Jacksonville Jaguars': 'JAX','Carolina Panthers': 'CAR', 'Green Bay Packers': 'GB','St. Louis Cardinals': 'ARI',\n",
    "'Los Angeles Raiders': 'OAK','Detroit Lions': 'DET','Cincinnati Bengals': 'CIN','Los Angeles Rams': 'LAR',\n",
    "'Oakland Raiders': 'OAK','Houston Texans': 'HOU', 'Tennessee Titans': 'TEN','New York Jets': 'NYJ',\n",
    "    'St. Louis Rams': 'LAR', 'Baltimore Colts': 'IND', 'Los Angeles Chargers': 'LAC',\n",
    "'Phoenix Cardinals': 'ARI'}"
   ]
  },
  {
   "cell_type": "code",
   "execution_count": 11,
   "metadata": {},
   "outputs": [],
   "source": [
    "betting_df['home_id'] = betting_df.home_team.map(nfl_teams)\n",
    "betting_df['away_id'] = betting_df.away_team.map(nfl_teams)"
   ]
  },
  {
   "cell_type": "code",
   "execution_count": 12,
   "metadata": {},
   "outputs": [
    {
     "data": {
      "text/html": [
       "<div>\n",
       "<style scoped>\n",
       "    .dataframe tbody tr th:only-of-type {\n",
       "        vertical-align: middle;\n",
       "    }\n",
       "\n",
       "    .dataframe tbody tr th {\n",
       "        vertical-align: top;\n",
       "    }\n",
       "\n",
       "    .dataframe thead th {\n",
       "        text-align: right;\n",
       "    }\n",
       "</style>\n",
       "<table border=\"1\" class=\"dataframe\">\n",
       "  <thead>\n",
       "    <tr style=\"text-align: right;\">\n",
       "      <th></th>\n",
       "      <th>date</th>\n",
       "      <th>season_year</th>\n",
       "      <th>week</th>\n",
       "      <th>home_team</th>\n",
       "      <th>away_team</th>\n",
       "      <th>stadium</th>\n",
       "      <th>team_favorite</th>\n",
       "      <th>spread</th>\n",
       "      <th>over/under</th>\n",
       "      <th>weather_temperature</th>\n",
       "      <th>...</th>\n",
       "      <th>score_difference</th>\n",
       "      <th>total_points</th>\n",
       "      <th>over_under_result</th>\n",
       "      <th>stadium_type_dome</th>\n",
       "      <th>stadium_type_fog</th>\n",
       "      <th>stadium_type_rain</th>\n",
       "      <th>stadium_type_rain_|_fog</th>\n",
       "      <th>stadium_type_snow</th>\n",
       "      <th>home_id</th>\n",
       "      <th>away_id</th>\n",
       "    </tr>\n",
       "  </thead>\n",
       "  <tbody>\n",
       "    <tr>\n",
       "      <th>0</th>\n",
       "      <td>2014-09-04</td>\n",
       "      <td>2014</td>\n",
       "      <td>1</td>\n",
       "      <td>Seattle Seahawks</td>\n",
       "      <td>Green Bay Packers</td>\n",
       "      <td>CenturyLink Field</td>\n",
       "      <td>SEA</td>\n",
       "      <td>-5.5</td>\n",
       "      <td>46.5</td>\n",
       "      <td>70.0</td>\n",
       "      <td>...</td>\n",
       "      <td>20</td>\n",
       "      <td>52</td>\n",
       "      <td>over</td>\n",
       "      <td>0</td>\n",
       "      <td>0</td>\n",
       "      <td>0</td>\n",
       "      <td>0</td>\n",
       "      <td>0</td>\n",
       "      <td>SEA</td>\n",
       "      <td>GB</td>\n",
       "    </tr>\n",
       "    <tr>\n",
       "      <th>1</th>\n",
       "      <td>2014-09-07</td>\n",
       "      <td>2014</td>\n",
       "      <td>1</td>\n",
       "      <td>Atlanta Falcons</td>\n",
       "      <td>New Orleans Saints</td>\n",
       "      <td>Georgia Dome</td>\n",
       "      <td>NO</td>\n",
       "      <td>-3.0</td>\n",
       "      <td>52.0</td>\n",
       "      <td>72.0</td>\n",
       "      <td>...</td>\n",
       "      <td>3</td>\n",
       "      <td>71</td>\n",
       "      <td>over</td>\n",
       "      <td>1</td>\n",
       "      <td>0</td>\n",
       "      <td>0</td>\n",
       "      <td>0</td>\n",
       "      <td>0</td>\n",
       "      <td>ATL</td>\n",
       "      <td>NO</td>\n",
       "    </tr>\n",
       "    <tr>\n",
       "      <th>2</th>\n",
       "      <td>2014-09-07</td>\n",
       "      <td>2014</td>\n",
       "      <td>1</td>\n",
       "      <td>Baltimore Ravens</td>\n",
       "      <td>Cincinnati Bengals</td>\n",
       "      <td>M&amp;T Bank Stadium</td>\n",
       "      <td>BAL</td>\n",
       "      <td>-1.5</td>\n",
       "      <td>42.5</td>\n",
       "      <td>78.0</td>\n",
       "      <td>...</td>\n",
       "      <td>-7</td>\n",
       "      <td>39</td>\n",
       "      <td>under</td>\n",
       "      <td>0</td>\n",
       "      <td>0</td>\n",
       "      <td>0</td>\n",
       "      <td>0</td>\n",
       "      <td>0</td>\n",
       "      <td>BAL</td>\n",
       "      <td>CIN</td>\n",
       "    </tr>\n",
       "    <tr>\n",
       "      <th>3</th>\n",
       "      <td>2014-09-07</td>\n",
       "      <td>2014</td>\n",
       "      <td>1</td>\n",
       "      <td>Chicago Bears</td>\n",
       "      <td>Buffalo Bills</td>\n",
       "      <td>Soldier Field</td>\n",
       "      <td>CHI</td>\n",
       "      <td>-6.5</td>\n",
       "      <td>47.0</td>\n",
       "      <td>77.0</td>\n",
       "      <td>...</td>\n",
       "      <td>-3</td>\n",
       "      <td>43</td>\n",
       "      <td>under</td>\n",
       "      <td>0</td>\n",
       "      <td>0</td>\n",
       "      <td>0</td>\n",
       "      <td>0</td>\n",
       "      <td>0</td>\n",
       "      <td>CHI</td>\n",
       "      <td>BUF</td>\n",
       "    </tr>\n",
       "    <tr>\n",
       "      <th>4</th>\n",
       "      <td>2014-09-07</td>\n",
       "      <td>2014</td>\n",
       "      <td>1</td>\n",
       "      <td>Dallas Cowboys</td>\n",
       "      <td>San Francisco 49ers</td>\n",
       "      <td>Cowboys Stadium</td>\n",
       "      <td>SF</td>\n",
       "      <td>-3.5</td>\n",
       "      <td>51.0</td>\n",
       "      <td>72.0</td>\n",
       "      <td>...</td>\n",
       "      <td>-11</td>\n",
       "      <td>45</td>\n",
       "      <td>under</td>\n",
       "      <td>1</td>\n",
       "      <td>0</td>\n",
       "      <td>0</td>\n",
       "      <td>0</td>\n",
       "      <td>0</td>\n",
       "      <td>DAL</td>\n",
       "      <td>SF</td>\n",
       "    </tr>\n",
       "  </tbody>\n",
       "</table>\n",
       "<p>5 rows × 62 columns</p>\n",
       "</div>"
      ],
      "text/plain": [
       "         date  season_year  week         home_team            away_team  \\\n",
       "0  2014-09-04         2014     1  Seattle Seahawks    Green Bay Packers   \n",
       "1  2014-09-07         2014     1   Atlanta Falcons   New Orleans Saints   \n",
       "2  2014-09-07         2014     1  Baltimore Ravens   Cincinnati Bengals   \n",
       "3  2014-09-07         2014     1     Chicago Bears        Buffalo Bills   \n",
       "4  2014-09-07         2014     1    Dallas Cowboys  San Francisco 49ers   \n",
       "\n",
       "             stadium team_favorite  spread  over/under  weather_temperature  \\\n",
       "0  CenturyLink Field           SEA    -5.5        46.5                 70.0   \n",
       "1       Georgia Dome            NO    -3.0        52.0                 72.0   \n",
       "2   M&T Bank Stadium           BAL    -1.5        42.5                 78.0   \n",
       "3      Soldier Field           CHI    -6.5        47.0                 77.0   \n",
       "4    Cowboys Stadium            SF    -3.5        51.0                 72.0   \n",
       "\n",
       "    ...     score_difference  total_points  over_under_result  \\\n",
       "0   ...                   20            52               over   \n",
       "1   ...                    3            71               over   \n",
       "2   ...                   -7            39              under   \n",
       "3   ...                   -3            43              under   \n",
       "4   ...                  -11            45              under   \n",
       "\n",
       "   stadium_type_dome stadium_type_fog stadium_type_rain  \\\n",
       "0                  0                0                 0   \n",
       "1                  1                0                 0   \n",
       "2                  0                0                 0   \n",
       "3                  0                0                 0   \n",
       "4                  1                0                 0   \n",
       "\n",
       "   stadium_type_rain_|_fog  stadium_type_snow  home_id  away_id  \n",
       "0                        0                  0      SEA       GB  \n",
       "1                        0                  0      ATL       NO  \n",
       "2                        0                  0      BAL      CIN  \n",
       "3                        0                  0      CHI      BUF  \n",
       "4                        0                  0      DAL       SF  \n",
       "\n",
       "[5 rows x 62 columns]"
      ]
     },
     "execution_count": 12,
     "metadata": {},
     "output_type": "execute_result"
    }
   ],
   "source": [
    "betting_df.head()"
   ]
  },
  {
   "cell_type": "markdown",
   "metadata": {},
   "source": [
    "- #### Making a column for whether or not the home team is the favorite"
   ]
  },
  {
   "cell_type": "code",
   "execution_count": 13,
   "metadata": {},
   "outputs": [
    {
     "data": {
      "text/html": [
       "<div>\n",
       "<style scoped>\n",
       "    .dataframe tbody tr th:only-of-type {\n",
       "        vertical-align: middle;\n",
       "    }\n",
       "\n",
       "    .dataframe tbody tr th {\n",
       "        vertical-align: top;\n",
       "    }\n",
       "\n",
       "    .dataframe thead th {\n",
       "        text-align: right;\n",
       "    }\n",
       "</style>\n",
       "<table border=\"1\" class=\"dataframe\">\n",
       "  <thead>\n",
       "    <tr style=\"text-align: right;\">\n",
       "      <th></th>\n",
       "      <th>date</th>\n",
       "      <th>season_year</th>\n",
       "      <th>week</th>\n",
       "      <th>home_team</th>\n",
       "      <th>away_team</th>\n",
       "      <th>stadium</th>\n",
       "      <th>team_favorite</th>\n",
       "      <th>spread</th>\n",
       "      <th>over/under</th>\n",
       "      <th>weather_temperature</th>\n",
       "      <th>...</th>\n",
       "      <th>total_points</th>\n",
       "      <th>over_under_result</th>\n",
       "      <th>stadium_type_dome</th>\n",
       "      <th>stadium_type_fog</th>\n",
       "      <th>stadium_type_rain</th>\n",
       "      <th>stadium_type_rain_|_fog</th>\n",
       "      <th>stadium_type_snow</th>\n",
       "      <th>home_id</th>\n",
       "      <th>away_id</th>\n",
       "      <th>home_favorite</th>\n",
       "    </tr>\n",
       "  </thead>\n",
       "  <tbody>\n",
       "    <tr>\n",
       "      <th>0</th>\n",
       "      <td>2014-09-04</td>\n",
       "      <td>2014</td>\n",
       "      <td>1</td>\n",
       "      <td>Seattle Seahawks</td>\n",
       "      <td>Green Bay Packers</td>\n",
       "      <td>CenturyLink Field</td>\n",
       "      <td>SEA</td>\n",
       "      <td>-5.5</td>\n",
       "      <td>46.5</td>\n",
       "      <td>70.0</td>\n",
       "      <td>...</td>\n",
       "      <td>52</td>\n",
       "      <td>over</td>\n",
       "      <td>0</td>\n",
       "      <td>0</td>\n",
       "      <td>0</td>\n",
       "      <td>0</td>\n",
       "      <td>0</td>\n",
       "      <td>SEA</td>\n",
       "      <td>GB</td>\n",
       "      <td>1</td>\n",
       "    </tr>\n",
       "    <tr>\n",
       "      <th>1</th>\n",
       "      <td>2014-09-07</td>\n",
       "      <td>2014</td>\n",
       "      <td>1</td>\n",
       "      <td>Atlanta Falcons</td>\n",
       "      <td>New Orleans Saints</td>\n",
       "      <td>Georgia Dome</td>\n",
       "      <td>NO</td>\n",
       "      <td>-3.0</td>\n",
       "      <td>52.0</td>\n",
       "      <td>72.0</td>\n",
       "      <td>...</td>\n",
       "      <td>71</td>\n",
       "      <td>over</td>\n",
       "      <td>1</td>\n",
       "      <td>0</td>\n",
       "      <td>0</td>\n",
       "      <td>0</td>\n",
       "      <td>0</td>\n",
       "      <td>ATL</td>\n",
       "      <td>NO</td>\n",
       "      <td>0</td>\n",
       "    </tr>\n",
       "    <tr>\n",
       "      <th>2</th>\n",
       "      <td>2014-09-07</td>\n",
       "      <td>2014</td>\n",
       "      <td>1</td>\n",
       "      <td>Baltimore Ravens</td>\n",
       "      <td>Cincinnati Bengals</td>\n",
       "      <td>M&amp;T Bank Stadium</td>\n",
       "      <td>BAL</td>\n",
       "      <td>-1.5</td>\n",
       "      <td>42.5</td>\n",
       "      <td>78.0</td>\n",
       "      <td>...</td>\n",
       "      <td>39</td>\n",
       "      <td>under</td>\n",
       "      <td>0</td>\n",
       "      <td>0</td>\n",
       "      <td>0</td>\n",
       "      <td>0</td>\n",
       "      <td>0</td>\n",
       "      <td>BAL</td>\n",
       "      <td>CIN</td>\n",
       "      <td>1</td>\n",
       "    </tr>\n",
       "    <tr>\n",
       "      <th>3</th>\n",
       "      <td>2014-09-07</td>\n",
       "      <td>2014</td>\n",
       "      <td>1</td>\n",
       "      <td>Chicago Bears</td>\n",
       "      <td>Buffalo Bills</td>\n",
       "      <td>Soldier Field</td>\n",
       "      <td>CHI</td>\n",
       "      <td>-6.5</td>\n",
       "      <td>47.0</td>\n",
       "      <td>77.0</td>\n",
       "      <td>...</td>\n",
       "      <td>43</td>\n",
       "      <td>under</td>\n",
       "      <td>0</td>\n",
       "      <td>0</td>\n",
       "      <td>0</td>\n",
       "      <td>0</td>\n",
       "      <td>0</td>\n",
       "      <td>CHI</td>\n",
       "      <td>BUF</td>\n",
       "      <td>1</td>\n",
       "    </tr>\n",
       "    <tr>\n",
       "      <th>4</th>\n",
       "      <td>2014-09-07</td>\n",
       "      <td>2014</td>\n",
       "      <td>1</td>\n",
       "      <td>Dallas Cowboys</td>\n",
       "      <td>San Francisco 49ers</td>\n",
       "      <td>Cowboys Stadium</td>\n",
       "      <td>SF</td>\n",
       "      <td>-3.5</td>\n",
       "      <td>51.0</td>\n",
       "      <td>72.0</td>\n",
       "      <td>...</td>\n",
       "      <td>45</td>\n",
       "      <td>under</td>\n",
       "      <td>1</td>\n",
       "      <td>0</td>\n",
       "      <td>0</td>\n",
       "      <td>0</td>\n",
       "      <td>0</td>\n",
       "      <td>DAL</td>\n",
       "      <td>SF</td>\n",
       "      <td>0</td>\n",
       "    </tr>\n",
       "  </tbody>\n",
       "</table>\n",
       "<p>5 rows × 63 columns</p>\n",
       "</div>"
      ],
      "text/plain": [
       "         date  season_year  week         home_team            away_team  \\\n",
       "0  2014-09-04         2014     1  Seattle Seahawks    Green Bay Packers   \n",
       "1  2014-09-07         2014     1   Atlanta Falcons   New Orleans Saints   \n",
       "2  2014-09-07         2014     1  Baltimore Ravens   Cincinnati Bengals   \n",
       "3  2014-09-07         2014     1     Chicago Bears        Buffalo Bills   \n",
       "4  2014-09-07         2014     1    Dallas Cowboys  San Francisco 49ers   \n",
       "\n",
       "             stadium team_favorite  spread  over/under  weather_temperature  \\\n",
       "0  CenturyLink Field           SEA    -5.5        46.5                 70.0   \n",
       "1       Georgia Dome            NO    -3.0        52.0                 72.0   \n",
       "2   M&T Bank Stadium           BAL    -1.5        42.5                 78.0   \n",
       "3      Soldier Field           CHI    -6.5        47.0                 77.0   \n",
       "4    Cowboys Stadium            SF    -3.5        51.0                 72.0   \n",
       "\n",
       "       ...        total_points  over_under_result  stadium_type_dome  \\\n",
       "0      ...                  52               over                  0   \n",
       "1      ...                  71               over                  1   \n",
       "2      ...                  39              under                  0   \n",
       "3      ...                  43              under                  0   \n",
       "4      ...                  45              under                  1   \n",
       "\n",
       "   stadium_type_fog stadium_type_rain stadium_type_rain_|_fog  \\\n",
       "0                 0                 0                       0   \n",
       "1                 0                 0                       0   \n",
       "2                 0                 0                       0   \n",
       "3                 0                 0                       0   \n",
       "4                 0                 0                       0   \n",
       "\n",
       "   stadium_type_snow  home_id  away_id  home_favorite  \n",
       "0                  0      SEA       GB              1  \n",
       "1                  0      ATL       NO              0  \n",
       "2                  0      BAL      CIN              1  \n",
       "3                  0      CHI      BUF              1  \n",
       "4                  0      DAL       SF              0  \n",
       "\n",
       "[5 rows x 63 columns]"
      ]
     },
     "execution_count": 13,
     "metadata": {},
     "output_type": "execute_result"
    }
   ],
   "source": [
    "betting_df['home_favorite'] = 0\n",
    "betting_df.loc[betting_df.home_id == betting_df.team_favorite,'home_favorite'] = 1\n",
    "betting_df.head()"
   ]
  },
  {
   "cell_type": "markdown",
   "metadata": {},
   "source": [
    "- #### Creating a column for whether or not the favorite covered the pre-determined spread\n",
    "    - if the score difference is negative that means the favorite lost\n",
    "    - if the score difference is positive favorite won but doesn't mean they beat the betting lines\n",
    "        - checking favorite's win margin against the spread to see if they beat the spread as well\n",
    "    - 0 means home favorite lost \n",
    "    - 1 means home favorite won and covered spread\n",
    "    - 2 means away favorite lost\n",
    "\n",
    "- #### Creating a column for who won the game not including spread"
   ]
  },
  {
   "cell_type": "code",
   "execution_count": 14,
   "metadata": {},
   "outputs": [],
   "source": [
    "betting_df['favorite_covered'] = np.where((betting_df.home_favorite==1) & \n",
    "                                          (np.abs(betting_df.score_difference) > np.abs(betting_df.spread)),1,0)\n",
    "betting_df['favorite_covered'] = np.where((np.abs(betting_df.score_difference) == np.abs(betting_df.spread)),'2',\n",
    "                                          betting_df.favorite_covered)"
   ]
  },
  {
   "cell_type": "code",
   "execution_count": 15,
   "metadata": {},
   "outputs": [],
   "source": [
    "# Converting to integers\n",
    "betting_df['favorite_covered']= betting_df['favorite_covered'].astype(\"int64\")"
   ]
  },
  {
   "cell_type": "code",
   "execution_count": 16,
   "metadata": {
    "scrolled": true
   },
   "outputs": [
    {
     "data": {
      "text/plain": [
       "Index(['date', 'season_year', 'week', 'home_team', 'away_team', 'stadium',\n",
       "       'team_favorite', 'spread', 'over/under', 'weather_temperature',\n",
       "       'weather_wind_mph', 'weather_humidity', 'score_home', 'score_away',\n",
       "       'overtime?', 'playoff_game?', 'home_odds_open', 'home_odds_min',\n",
       "       'home_odds_max', 'home_odds_close', 'away_odds_open', 'away_odds_min',\n",
       "       'away_odds_max', 'away_odds_close', 'home_line_open', 'home_line_min',\n",
       "       'home_line_max', 'home_line_close', 'away_line_open', 'away_line_min',\n",
       "       'away_line_max', 'away_line_close', 'home_line_odds_open',\n",
       "       'home_line_odds_min', 'home_line_odds_max', 'home_line_odds_close',\n",
       "       'away_line_odds_open', 'away_line_odds_min', 'away_line_odds_max',\n",
       "       'away_line_odds_close', 'total_score_open', 'total_score_min',\n",
       "       'total_score_max', 'total_score_close', 'total_score_over_open',\n",
       "       'total_score_over_min', 'total_score_over_max',\n",
       "       'total_score_over_close', 'total_score_under_open',\n",
       "       'total_score_under_min', 'total_score_under_max',\n",
       "       'total_score_under_close', 'score_difference', 'total_points',\n",
       "       'over_under_result', 'stadium_type_dome', 'stadium_type_fog',\n",
       "       'stadium_type_rain', 'stadium_type_rain_|_fog', 'stadium_type_snow',\n",
       "       'home_id', 'away_id', 'home_favorite', 'favorite_covered'],\n",
       "      dtype='object')"
      ]
     },
     "execution_count": 16,
     "metadata": {},
     "output_type": "execute_result"
    }
   ],
   "source": [
    "betting_df.columns"
   ]
  },
  {
   "cell_type": "code",
   "execution_count": 17,
   "metadata": {},
   "outputs": [],
   "source": [
    "betting_df['winner'] = ''\n",
    "betting_df['winner'] = np.where(betting_df.score_home > betting_df.score_away, betting_df.home_id, betting_df.away_id)\n",
    "betting_df['winner'] = np.where(betting_df.score_home == betting_df.score_away, 'tie', betting_df.winner)"
   ]
  },
  {
   "cell_type": "code",
   "execution_count": 18,
   "metadata": {},
   "outputs": [],
   "source": [
    "betting_df['loser'] = ''\n",
    "betting_df['loser'] = np.where(betting_df.score_home < betting_df.score_away, betting_df.home_id, betting_df.away_id)\n",
    "betting_df['loser'] = np.where(betting_df.score_home == betting_df.score_away, 'tie', betting_df.loser)"
   ]
  },
  {
   "cell_type": "code",
   "execution_count": 19,
   "metadata": {},
   "outputs": [
    {
     "data": {
      "text/html": [
       "<div>\n",
       "<style scoped>\n",
       "    .dataframe tbody tr th:only-of-type {\n",
       "        vertical-align: middle;\n",
       "    }\n",
       "\n",
       "    .dataframe tbody tr th {\n",
       "        vertical-align: top;\n",
       "    }\n",
       "\n",
       "    .dataframe thead th {\n",
       "        text-align: right;\n",
       "    }\n",
       "</style>\n",
       "<table border=\"1\" class=\"dataframe\">\n",
       "  <thead>\n",
       "    <tr style=\"text-align: right;\">\n",
       "      <th></th>\n",
       "      <th>date</th>\n",
       "      <th>season_year</th>\n",
       "      <th>week</th>\n",
       "      <th>home_team</th>\n",
       "      <th>away_team</th>\n",
       "      <th>stadium</th>\n",
       "      <th>team_favorite</th>\n",
       "      <th>spread</th>\n",
       "      <th>over/under</th>\n",
       "      <th>weather_temperature</th>\n",
       "      <th>...</th>\n",
       "      <th>stadium_type_fog</th>\n",
       "      <th>stadium_type_rain</th>\n",
       "      <th>stadium_type_rain_|_fog</th>\n",
       "      <th>stadium_type_snow</th>\n",
       "      <th>home_id</th>\n",
       "      <th>away_id</th>\n",
       "      <th>home_favorite</th>\n",
       "      <th>favorite_covered</th>\n",
       "      <th>winner</th>\n",
       "      <th>loser</th>\n",
       "    </tr>\n",
       "  </thead>\n",
       "  <tbody>\n",
       "    <tr>\n",
       "      <th>0</th>\n",
       "      <td>2014-09-04</td>\n",
       "      <td>2014</td>\n",
       "      <td>1</td>\n",
       "      <td>Seattle Seahawks</td>\n",
       "      <td>Green Bay Packers</td>\n",
       "      <td>CenturyLink Field</td>\n",
       "      <td>SEA</td>\n",
       "      <td>-5.5</td>\n",
       "      <td>46.5</td>\n",
       "      <td>70.0</td>\n",
       "      <td>...</td>\n",
       "      <td>0</td>\n",
       "      <td>0</td>\n",
       "      <td>0</td>\n",
       "      <td>0</td>\n",
       "      <td>SEA</td>\n",
       "      <td>GB</td>\n",
       "      <td>1</td>\n",
       "      <td>1</td>\n",
       "      <td>SEA</td>\n",
       "      <td>GB</td>\n",
       "    </tr>\n",
       "    <tr>\n",
       "      <th>1</th>\n",
       "      <td>2014-09-07</td>\n",
       "      <td>2014</td>\n",
       "      <td>1</td>\n",
       "      <td>Atlanta Falcons</td>\n",
       "      <td>New Orleans Saints</td>\n",
       "      <td>Georgia Dome</td>\n",
       "      <td>NO</td>\n",
       "      <td>-3.0</td>\n",
       "      <td>52.0</td>\n",
       "      <td>72.0</td>\n",
       "      <td>...</td>\n",
       "      <td>0</td>\n",
       "      <td>0</td>\n",
       "      <td>0</td>\n",
       "      <td>0</td>\n",
       "      <td>ATL</td>\n",
       "      <td>NO</td>\n",
       "      <td>0</td>\n",
       "      <td>2</td>\n",
       "      <td>ATL</td>\n",
       "      <td>NO</td>\n",
       "    </tr>\n",
       "    <tr>\n",
       "      <th>2</th>\n",
       "      <td>2014-09-07</td>\n",
       "      <td>2014</td>\n",
       "      <td>1</td>\n",
       "      <td>Baltimore Ravens</td>\n",
       "      <td>Cincinnati Bengals</td>\n",
       "      <td>M&amp;T Bank Stadium</td>\n",
       "      <td>BAL</td>\n",
       "      <td>-1.5</td>\n",
       "      <td>42.5</td>\n",
       "      <td>78.0</td>\n",
       "      <td>...</td>\n",
       "      <td>0</td>\n",
       "      <td>0</td>\n",
       "      <td>0</td>\n",
       "      <td>0</td>\n",
       "      <td>BAL</td>\n",
       "      <td>CIN</td>\n",
       "      <td>1</td>\n",
       "      <td>1</td>\n",
       "      <td>CIN</td>\n",
       "      <td>BAL</td>\n",
       "    </tr>\n",
       "    <tr>\n",
       "      <th>3</th>\n",
       "      <td>2014-09-07</td>\n",
       "      <td>2014</td>\n",
       "      <td>1</td>\n",
       "      <td>Chicago Bears</td>\n",
       "      <td>Buffalo Bills</td>\n",
       "      <td>Soldier Field</td>\n",
       "      <td>CHI</td>\n",
       "      <td>-6.5</td>\n",
       "      <td>47.0</td>\n",
       "      <td>77.0</td>\n",
       "      <td>...</td>\n",
       "      <td>0</td>\n",
       "      <td>0</td>\n",
       "      <td>0</td>\n",
       "      <td>0</td>\n",
       "      <td>CHI</td>\n",
       "      <td>BUF</td>\n",
       "      <td>1</td>\n",
       "      <td>0</td>\n",
       "      <td>BUF</td>\n",
       "      <td>CHI</td>\n",
       "    </tr>\n",
       "    <tr>\n",
       "      <th>4</th>\n",
       "      <td>2014-09-07</td>\n",
       "      <td>2014</td>\n",
       "      <td>1</td>\n",
       "      <td>Dallas Cowboys</td>\n",
       "      <td>San Francisco 49ers</td>\n",
       "      <td>Cowboys Stadium</td>\n",
       "      <td>SF</td>\n",
       "      <td>-3.5</td>\n",
       "      <td>51.0</td>\n",
       "      <td>72.0</td>\n",
       "      <td>...</td>\n",
       "      <td>0</td>\n",
       "      <td>0</td>\n",
       "      <td>0</td>\n",
       "      <td>0</td>\n",
       "      <td>DAL</td>\n",
       "      <td>SF</td>\n",
       "      <td>0</td>\n",
       "      <td>0</td>\n",
       "      <td>SF</td>\n",
       "      <td>DAL</td>\n",
       "    </tr>\n",
       "  </tbody>\n",
       "</table>\n",
       "<p>5 rows × 66 columns</p>\n",
       "</div>"
      ],
      "text/plain": [
       "         date  season_year  week         home_team            away_team  \\\n",
       "0  2014-09-04         2014     1  Seattle Seahawks    Green Bay Packers   \n",
       "1  2014-09-07         2014     1   Atlanta Falcons   New Orleans Saints   \n",
       "2  2014-09-07         2014     1  Baltimore Ravens   Cincinnati Bengals   \n",
       "3  2014-09-07         2014     1     Chicago Bears        Buffalo Bills   \n",
       "4  2014-09-07         2014     1    Dallas Cowboys  San Francisco 49ers   \n",
       "\n",
       "             stadium team_favorite  spread  over/under  weather_temperature  \\\n",
       "0  CenturyLink Field           SEA    -5.5        46.5                 70.0   \n",
       "1       Georgia Dome            NO    -3.0        52.0                 72.0   \n",
       "2   M&T Bank Stadium           BAL    -1.5        42.5                 78.0   \n",
       "3      Soldier Field           CHI    -6.5        47.0                 77.0   \n",
       "4    Cowboys Stadium            SF    -3.5        51.0                 72.0   \n",
       "\n",
       "   ...    stadium_type_fog  stadium_type_rain  stadium_type_rain_|_fog  \\\n",
       "0  ...                   0                  0                        0   \n",
       "1  ...                   0                  0                        0   \n",
       "2  ...                   0                  0                        0   \n",
       "3  ...                   0                  0                        0   \n",
       "4  ...                   0                  0                        0   \n",
       "\n",
       "   stadium_type_snow home_id away_id  home_favorite  favorite_covered  winner  \\\n",
       "0                  0     SEA      GB              1                 1     SEA   \n",
       "1                  0     ATL      NO              0                 2     ATL   \n",
       "2                  0     BAL     CIN              1                 1     CIN   \n",
       "3                  0     CHI     BUF              1                 0     BUF   \n",
       "4                  0     DAL      SF              0                 0      SF   \n",
       "\n",
       "   loser  \n",
       "0     GB  \n",
       "1     NO  \n",
       "2    BAL  \n",
       "3    CHI  \n",
       "4    DAL  \n",
       "\n",
       "[5 rows x 66 columns]"
      ]
     },
     "execution_count": 19,
     "metadata": {},
     "output_type": "execute_result"
    }
   ],
   "source": [
    "betting_df.head()"
   ]
  },
  {
   "cell_type": "markdown",
   "metadata": {},
   "source": [
    "### <u>Creating Running Total Win Rate for Each Team</u>"
   ]
  },
  {
   "cell_type": "markdown",
   "metadata": {},
   "source": [
    "- #### Creating an NFL teams DataFrame"
   ]
  },
  {
   "cell_type": "code",
   "execution_count": 20,
   "metadata": {},
   "outputs": [],
   "source": [
    "team_df = pd.DataFrame([{'name' : name, 'id' : id} for name, id in nfl_teams.items()])"
   ]
  },
  {
   "cell_type": "code",
   "execution_count": 21,
   "metadata": {},
   "outputs": [
    {
     "data": {
      "text/html": [
       "<div>\n",
       "<style scoped>\n",
       "    .dataframe tbody tr th:only-of-type {\n",
       "        vertical-align: middle;\n",
       "    }\n",
       "\n",
       "    .dataframe tbody tr th {\n",
       "        vertical-align: top;\n",
       "    }\n",
       "\n",
       "    .dataframe thead th {\n",
       "        text-align: right;\n",
       "    }\n",
       "</style>\n",
       "<table border=\"1\" class=\"dataframe\">\n",
       "  <thead>\n",
       "    <tr style=\"text-align: right;\">\n",
       "      <th></th>\n",
       "      <th>id</th>\n",
       "      <th>name</th>\n",
       "    </tr>\n",
       "  </thead>\n",
       "  <tbody>\n",
       "    <tr>\n",
       "      <th>0</th>\n",
       "      <td>LAC</td>\n",
       "      <td>San Diego Chargers</td>\n",
       "    </tr>\n",
       "    <tr>\n",
       "      <th>1</th>\n",
       "      <td>IND</td>\n",
       "      <td>Indianapolis Colts</td>\n",
       "    </tr>\n",
       "    <tr>\n",
       "      <th>2</th>\n",
       "      <td>WAS</td>\n",
       "      <td>Washington Redskins</td>\n",
       "    </tr>\n",
       "    <tr>\n",
       "      <th>3</th>\n",
       "      <td>MIA</td>\n",
       "      <td>Miami Dolphins</td>\n",
       "    </tr>\n",
       "    <tr>\n",
       "      <th>4</th>\n",
       "      <td>BUF</td>\n",
       "      <td>Buffalo Bills</td>\n",
       "    </tr>\n",
       "  </tbody>\n",
       "</table>\n",
       "</div>"
      ],
      "text/plain": [
       "    id                 name\n",
       "0  LAC   San Diego Chargers\n",
       "1  IND   Indianapolis Colts\n",
       "2  WAS  Washington Redskins\n",
       "3  MIA       Miami Dolphins\n",
       "4  BUF        Buffalo Bills"
      ]
     },
     "execution_count": 21,
     "metadata": {},
     "output_type": "execute_result"
    }
   ],
   "source": [
    "team_df.head()"
   ]
  },
  {
   "cell_type": "markdown",
   "metadata": {},
   "source": [
    "- #### Defining Running Win Rate Function"
   ]
  },
  {
   "cell_type": "code",
   "execution_count": 22,
   "metadata": {},
   "outputs": [],
   "source": [
    "def running_win_rate(betting_df, team_id):\n",
    "    try:\n",
    "        games = betting_df['home_id'][betting_df['home_id'] == team_id].count() + betting_df['away_id'][betting_df['away_id'] == team_id].count()\n",
    "        wins  = betting_df['winner'][betting_df['winner'] == team_id].count()\n",
    "    except:\n",
    "        return None\n",
    "        \n",
    "    if games == 0:\n",
    "        return 0\n",
    "\n",
    "#     team_df['losses'] = team_df['games'] - team_df['wins']\n",
    "    win_rate = wins / games\n",
    "    return win_rate\n",
    "    "
   ]
  },
  {
   "cell_type": "code",
   "execution_count": 23,
   "metadata": {},
   "outputs": [
    {
     "data": {
      "text/plain": [
       "0"
      ]
     },
     "execution_count": 23,
     "metadata": {},
     "output_type": "execute_result"
    }
   ],
   "source": [
    "running_win_rate(betting_df[0:0], 'GB')"
   ]
  },
  {
   "cell_type": "code",
   "execution_count": 24,
   "metadata": {},
   "outputs": [],
   "source": [
    "betting_df['home_win_rate'] = np.nan"
   ]
  },
  {
   "cell_type": "code",
   "execution_count": 25,
   "metadata": {},
   "outputs": [],
   "source": [
    "for i, row in betting_df.iterrows():\n",
    "    home_win_rate = running_win_rate(betting_df[:i+1], row['home_id'])\n",
    "    away_win_rate = running_win_rate(betting_df[:i+1], row['away_id'])\n",
    "#     print(win_rate)\n",
    "    \n",
    "    betting_df.loc[i, 'home_win_rate'] = home_win_rate\n",
    "    betting_df.loc[i, 'away_win_rate'] = away_win_rate    \n",
    "#     betting_df['away_win_rate']"
   ]
  },
  {
   "cell_type": "code",
   "execution_count": 26,
   "metadata": {
    "scrolled": true
   },
   "outputs": [
    {
     "data": {
      "text/html": [
       "<div>\n",
       "<style scoped>\n",
       "    .dataframe tbody tr th:only-of-type {\n",
       "        vertical-align: middle;\n",
       "    }\n",
       "\n",
       "    .dataframe tbody tr th {\n",
       "        vertical-align: top;\n",
       "    }\n",
       "\n",
       "    .dataframe thead th {\n",
       "        text-align: right;\n",
       "    }\n",
       "</style>\n",
       "<table border=\"1\" class=\"dataframe\">\n",
       "  <thead>\n",
       "    <tr style=\"text-align: right;\">\n",
       "      <th></th>\n",
       "      <th>home_id</th>\n",
       "      <th>away_id</th>\n",
       "      <th>winner</th>\n",
       "      <th>home_win_rate</th>\n",
       "      <th>away_win_rate</th>\n",
       "    </tr>\n",
       "  </thead>\n",
       "  <tbody>\n",
       "    <tr>\n",
       "      <th>0</th>\n",
       "      <td>SEA</td>\n",
       "      <td>GB</td>\n",
       "      <td>SEA</td>\n",
       "      <td>1.0</td>\n",
       "      <td>0.0</td>\n",
       "    </tr>\n",
       "    <tr>\n",
       "      <th>1</th>\n",
       "      <td>ATL</td>\n",
       "      <td>NO</td>\n",
       "      <td>ATL</td>\n",
       "      <td>1.0</td>\n",
       "      <td>0.0</td>\n",
       "    </tr>\n",
       "    <tr>\n",
       "      <th>2</th>\n",
       "      <td>BAL</td>\n",
       "      <td>CIN</td>\n",
       "      <td>CIN</td>\n",
       "      <td>0.0</td>\n",
       "      <td>1.0</td>\n",
       "    </tr>\n",
       "    <tr>\n",
       "      <th>3</th>\n",
       "      <td>CHI</td>\n",
       "      <td>BUF</td>\n",
       "      <td>BUF</td>\n",
       "      <td>0.0</td>\n",
       "      <td>1.0</td>\n",
       "    </tr>\n",
       "    <tr>\n",
       "      <th>4</th>\n",
       "      <td>DAL</td>\n",
       "      <td>SF</td>\n",
       "      <td>SF</td>\n",
       "      <td>0.0</td>\n",
       "      <td>1.0</td>\n",
       "    </tr>\n",
       "    <tr>\n",
       "      <th>5</th>\n",
       "      <td>DEN</td>\n",
       "      <td>IND</td>\n",
       "      <td>DEN</td>\n",
       "      <td>1.0</td>\n",
       "      <td>0.0</td>\n",
       "    </tr>\n",
       "    <tr>\n",
       "      <th>6</th>\n",
       "      <td>HOU</td>\n",
       "      <td>WAS</td>\n",
       "      <td>HOU</td>\n",
       "      <td>1.0</td>\n",
       "      <td>0.0</td>\n",
       "    </tr>\n",
       "    <tr>\n",
       "      <th>7</th>\n",
       "      <td>KC</td>\n",
       "      <td>TEN</td>\n",
       "      <td>TEN</td>\n",
       "      <td>0.0</td>\n",
       "      <td>1.0</td>\n",
       "    </tr>\n",
       "    <tr>\n",
       "      <th>8</th>\n",
       "      <td>MIA</td>\n",
       "      <td>NE</td>\n",
       "      <td>MIA</td>\n",
       "      <td>1.0</td>\n",
       "      <td>0.0</td>\n",
       "    </tr>\n",
       "    <tr>\n",
       "      <th>9</th>\n",
       "      <td>NYJ</td>\n",
       "      <td>OAK</td>\n",
       "      <td>NYJ</td>\n",
       "      <td>1.0</td>\n",
       "      <td>0.0</td>\n",
       "    </tr>\n",
       "  </tbody>\n",
       "</table>\n",
       "</div>"
      ],
      "text/plain": [
       "  home_id away_id winner  home_win_rate  away_win_rate\n",
       "0     SEA      GB    SEA            1.0            0.0\n",
       "1     ATL      NO    ATL            1.0            0.0\n",
       "2     BAL     CIN    CIN            0.0            1.0\n",
       "3     CHI     BUF    BUF            0.0            1.0\n",
       "4     DAL      SF     SF            0.0            1.0\n",
       "5     DEN     IND    DEN            1.0            0.0\n",
       "6     HOU     WAS    HOU            1.0            0.0\n",
       "7      KC     TEN    TEN            0.0            1.0\n",
       "8     MIA      NE    MIA            1.0            0.0\n",
       "9     NYJ     OAK    NYJ            1.0            0.0"
      ]
     },
     "execution_count": 26,
     "metadata": {},
     "output_type": "execute_result"
    }
   ],
   "source": [
    "betting_df[['home_id', 'away_id', 'winner', 'home_win_rate', 'away_win_rate']].head(10)"
   ]
  },
  {
   "cell_type": "markdown",
   "metadata": {},
   "source": [
    "- #### Creating Cumulative Average Total Points"
   ]
  },
  {
   "cell_type": "code",
   "execution_count": 27,
   "metadata": {
    "scrolled": true
   },
   "outputs": [
    {
     "name": "stderr",
     "output_type": "stream",
     "text": [
      "/anaconda3/envs/dsi/lib/python3.6/site-packages/ipykernel_launcher.py:4: SettingWithCopyWarning: \n",
      "A value is trying to be set on a copy of a slice from a DataFrame\n",
      "\n",
      "See the caveats in the documentation: http://pandas.pydata.org/pandas-docs/stable/indexing.html#indexing-view-versus-copy\n",
      "  after removing the cwd from sys.path.\n"
     ]
    }
   ],
   "source": [
    "betting_df['cum_avg_points'] = 0\n",
    "for i,num in enumerate(betting_df['total_points']):\n",
    "    if i == 0:\n",
    "        betting_df['cum_avg_points'][i] = 0\n",
    "    else:\n",
    "        betting_df.loc[i,'cum_avg_points'] = betting_df.loc[:i-1, 'total_points'].mean()\n",
    "        \n",
    "    "
   ]
  },
  {
   "cell_type": "code",
   "execution_count": 28,
   "metadata": {
    "scrolled": false
   },
   "outputs": [
    {
     "data": {
      "text/html": [
       "<div>\n",
       "<style scoped>\n",
       "    .dataframe tbody tr th:only-of-type {\n",
       "        vertical-align: middle;\n",
       "    }\n",
       "\n",
       "    .dataframe tbody tr th {\n",
       "        vertical-align: top;\n",
       "    }\n",
       "\n",
       "    .dataframe thead th {\n",
       "        text-align: right;\n",
       "    }\n",
       "</style>\n",
       "<table border=\"1\" class=\"dataframe\">\n",
       "  <thead>\n",
       "    <tr style=\"text-align: right;\">\n",
       "      <th></th>\n",
       "      <th>total_points</th>\n",
       "      <th>cum_avg_points</th>\n",
       "    </tr>\n",
       "  </thead>\n",
       "  <tbody>\n",
       "    <tr>\n",
       "      <th>0</th>\n",
       "      <td>52</td>\n",
       "      <td>0.000000</td>\n",
       "    </tr>\n",
       "    <tr>\n",
       "      <th>1</th>\n",
       "      <td>71</td>\n",
       "      <td>52.000000</td>\n",
       "    </tr>\n",
       "    <tr>\n",
       "      <th>2</th>\n",
       "      <td>39</td>\n",
       "      <td>61.500000</td>\n",
       "    </tr>\n",
       "    <tr>\n",
       "      <th>3</th>\n",
       "      <td>43</td>\n",
       "      <td>54.000000</td>\n",
       "    </tr>\n",
       "    <tr>\n",
       "      <th>4</th>\n",
       "      <td>45</td>\n",
       "      <td>51.250000</td>\n",
       "    </tr>\n",
       "    <tr>\n",
       "      <th>5</th>\n",
       "      <td>55</td>\n",
       "      <td>50.000000</td>\n",
       "    </tr>\n",
       "    <tr>\n",
       "      <th>6</th>\n",
       "      <td>23</td>\n",
       "      <td>50.833333</td>\n",
       "    </tr>\n",
       "    <tr>\n",
       "      <th>7</th>\n",
       "      <td>36</td>\n",
       "      <td>46.857143</td>\n",
       "    </tr>\n",
       "    <tr>\n",
       "      <th>8</th>\n",
       "      <td>53</td>\n",
       "      <td>45.500000</td>\n",
       "    </tr>\n",
       "    <tr>\n",
       "      <th>9</th>\n",
       "      <td>33</td>\n",
       "      <td>46.333333</td>\n",
       "    </tr>\n",
       "  </tbody>\n",
       "</table>\n",
       "</div>"
      ],
      "text/plain": [
       "   total_points  cum_avg_points\n",
       "0            52        0.000000\n",
       "1            71       52.000000\n",
       "2            39       61.500000\n",
       "3            43       54.000000\n",
       "4            45       51.250000\n",
       "5            55       50.000000\n",
       "6            23       50.833333\n",
       "7            36       46.857143\n",
       "8            53       45.500000\n",
       "9            33       46.333333"
      ]
     },
     "execution_count": 28,
     "metadata": {},
     "output_type": "execute_result"
    }
   ],
   "source": [
    "betting_df[['total_points', 'cum_avg_points']].head(10)"
   ]
  },
  {
   "cell_type": "code",
   "execution_count": 50,
   "metadata": {},
   "outputs": [
    {
     "data": {
      "text/html": [
       "<div>\n",
       "<style scoped>\n",
       "    .dataframe tbody tr th:only-of-type {\n",
       "        vertical-align: middle;\n",
       "    }\n",
       "\n",
       "    .dataframe tbody tr th {\n",
       "        vertical-align: top;\n",
       "    }\n",
       "\n",
       "    .dataframe thead th {\n",
       "        text-align: right;\n",
       "    }\n",
       "</style>\n",
       "<table border=\"1\" class=\"dataframe\">\n",
       "  <thead>\n",
       "    <tr style=\"text-align: right;\">\n",
       "      <th></th>\n",
       "      <th>total_points</th>\n",
       "      <th>over/under</th>\n",
       "      <th>cum_avg_points</th>\n",
       "    </tr>\n",
       "  </thead>\n",
       "  <tbody>\n",
       "    <tr>\n",
       "      <th>count</th>\n",
       "      <td>1054.000000</td>\n",
       "      <td>1054.000000</td>\n",
       "      <td>1054.000000</td>\n",
       "    </tr>\n",
       "    <tr>\n",
       "      <th>mean</th>\n",
       "      <td>45.007590</td>\n",
       "      <td>45.290323</td>\n",
       "      <td>45.480774</td>\n",
       "    </tr>\n",
       "    <tr>\n",
       "      <th>std</th>\n",
       "      <td>13.809446</td>\n",
       "      <td>3.936420</td>\n",
       "      <td>1.621490</td>\n",
       "    </tr>\n",
       "    <tr>\n",
       "      <th>min</th>\n",
       "      <td>6.000000</td>\n",
       "      <td>36.500000</td>\n",
       "      <td>0.000000</td>\n",
       "    </tr>\n",
       "    <tr>\n",
       "      <th>25%</th>\n",
       "      <td>35.000000</td>\n",
       "      <td>42.500000</td>\n",
       "      <td>45.324825</td>\n",
       "    </tr>\n",
       "    <tr>\n",
       "      <th>50%</th>\n",
       "      <td>44.000000</td>\n",
       "      <td>45.000000</td>\n",
       "      <td>45.433472</td>\n",
       "    </tr>\n",
       "    <tr>\n",
       "      <th>75%</th>\n",
       "      <td>54.000000</td>\n",
       "      <td>47.500000</td>\n",
       "      <td>45.593783</td>\n",
       "    </tr>\n",
       "    <tr>\n",
       "      <th>max</th>\n",
       "      <td>101.000000</td>\n",
       "      <td>59.500000</td>\n",
       "      <td>61.500000</td>\n",
       "    </tr>\n",
       "  </tbody>\n",
       "</table>\n",
       "</div>"
      ],
      "text/plain": [
       "       total_points   over/under  cum_avg_points\n",
       "count   1054.000000  1054.000000     1054.000000\n",
       "mean      45.007590    45.290323       45.480774\n",
       "std       13.809446     3.936420        1.621490\n",
       "min        6.000000    36.500000        0.000000\n",
       "25%       35.000000    42.500000       45.324825\n",
       "50%       44.000000    45.000000       45.433472\n",
       "75%       54.000000    47.500000       45.593783\n",
       "max      101.000000    59.500000       61.500000"
      ]
     },
     "execution_count": 50,
     "metadata": {},
     "output_type": "execute_result"
    }
   ],
   "source": [
    "betting_df[['total_points','over/under', 'cum_avg_points']].describe()"
   ]
  },
  {
   "cell_type": "code",
   "execution_count": 55,
   "metadata": {},
   "outputs": [
    {
     "data": {
      "text/plain": [
       "(array([1.000e+00, 0.000e+00, 0.000e+00, 0.000e+00, 0.000e+00, 0.000e+00,\n",
       "        6.000e+00, 1.042e+03, 4.000e+00, 1.000e+00]),\n",
       " array([ 0.  ,  6.15, 12.3 , 18.45, 24.6 , 30.75, 36.9 , 43.05, 49.2 ,\n",
       "        55.35, 61.5 ]),\n",
       " <a list of 10 Patch objects>)"
      ]
     },
     "execution_count": 55,
     "metadata": {},
     "output_type": "execute_result"
    },
    {
     "data": {
      "image/png": "[encoded data removed]",
      "text/plain": [
       "<Figure size 432x288 with 1 Axes>"
      ]
     },
     "metadata": {
      "needs_background": "light"
     },
     "output_type": "display_data"
    }
   ],
   "source": [
    "plt.hist(betting_df['cum_avg_points'])"
   ]
  },
  {
   "cell_type": "code",
   "execution_count": 29,
   "metadata": {},
   "outputs": [
    {
     "data": {
      "text/plain": [
       "under    0.511236\n",
       "over     0.475655\n",
       "push     0.013109\n",
       "Name: over_under_result, dtype: float64"
      ]
     },
     "execution_count": 29,
     "metadata": {},
     "output_type": "execute_result"
    }
   ],
   "source": [
    "# value counts\n",
    "betting_df['over_under_result'].value_counts(normalize=True)"
   ]
  },
  {
   "cell_type": "code",
   "execution_count": 30,
   "metadata": {},
   "outputs": [
    {
     "data": {
      "text/plain": [
       "0"
      ]
     },
     "execution_count": 30,
     "metadata": {},
     "output_type": "execute_result"
    }
   ],
   "source": [
    "betting_df['over_under_result'].isna().sum()"
   ]
  },
  {
   "cell_type": "code",
   "execution_count": 31,
   "metadata": {},
   "outputs": [],
   "source": [
    "# dropping pushes \n",
    "betting_df = betting_df.drop(betting_df[betting_df['over_under_result'] == 'push'].index, axis = 0) \n",
    "\n"
   ]
  },
  {
   "cell_type": "code",
   "execution_count": 32,
   "metadata": {},
   "outputs": [
    {
     "data": {
      "text/plain": [
       "under    0.518027\n",
       "over     0.481973\n",
       "Name: over_under_result, dtype: float64"
      ]
     },
     "execution_count": 32,
     "metadata": {},
     "output_type": "execute_result"
    }
   ],
   "source": [
    "# value counts\n",
    "betting_df['over_under_result'].value_counts(normalize=True)"
   ]
  },
  {
   "cell_type": "markdown",
   "metadata": {},
   "source": [
    "- #### Creating Target Variable"
   ]
  },
  {
   "cell_type": "code",
   "execution_count": 33,
   "metadata": {},
   "outputs": [],
   "source": [
    "betting_df['target'] = betting_df['over_under_result'].apply(lambda x: 1 if x == 'over' else 0 )"
   ]
  },
  {
   "cell_type": "code",
   "execution_count": 34,
   "metadata": {},
   "outputs": [
    {
     "data": {
      "text/html": [
       "<div>\n",
       "<style scoped>\n",
       "    .dataframe tbody tr th:only-of-type {\n",
       "        vertical-align: middle;\n",
       "    }\n",
       "\n",
       "    .dataframe tbody tr th {\n",
       "        vertical-align: top;\n",
       "    }\n",
       "\n",
       "    .dataframe thead th {\n",
       "        text-align: right;\n",
       "    }\n",
       "</style>\n",
       "<table border=\"1\" class=\"dataframe\">\n",
       "  <thead>\n",
       "    <tr style=\"text-align: right;\">\n",
       "      <th></th>\n",
       "      <th>date</th>\n",
       "      <th>season_year</th>\n",
       "      <th>week</th>\n",
       "      <th>home_team</th>\n",
       "      <th>away_team</th>\n",
       "      <th>stadium</th>\n",
       "      <th>team_favorite</th>\n",
       "      <th>spread</th>\n",
       "      <th>over/under</th>\n",
       "      <th>weather_temperature</th>\n",
       "      <th>...</th>\n",
       "      <th>home_id</th>\n",
       "      <th>away_id</th>\n",
       "      <th>home_favorite</th>\n",
       "      <th>favorite_covered</th>\n",
       "      <th>winner</th>\n",
       "      <th>loser</th>\n",
       "      <th>home_win_rate</th>\n",
       "      <th>away_win_rate</th>\n",
       "      <th>cum_avg_points</th>\n",
       "      <th>target</th>\n",
       "    </tr>\n",
       "  </thead>\n",
       "  <tbody>\n",
       "    <tr>\n",
       "      <th>0</th>\n",
       "      <td>2014-09-04</td>\n",
       "      <td>2014</td>\n",
       "      <td>1</td>\n",
       "      <td>Seattle Seahawks</td>\n",
       "      <td>Green Bay Packers</td>\n",
       "      <td>CenturyLink Field</td>\n",
       "      <td>SEA</td>\n",
       "      <td>-5.5</td>\n",
       "      <td>46.5</td>\n",
       "      <td>70.0</td>\n",
       "      <td>...</td>\n",
       "      <td>SEA</td>\n",
       "      <td>GB</td>\n",
       "      <td>1</td>\n",
       "      <td>1</td>\n",
       "      <td>SEA</td>\n",
       "      <td>GB</td>\n",
       "      <td>1.0</td>\n",
       "      <td>0.0</td>\n",
       "      <td>0.00</td>\n",
       "      <td>1</td>\n",
       "    </tr>\n",
       "    <tr>\n",
       "      <th>1</th>\n",
       "      <td>2014-09-07</td>\n",
       "      <td>2014</td>\n",
       "      <td>1</td>\n",
       "      <td>Atlanta Falcons</td>\n",
       "      <td>New Orleans Saints</td>\n",
       "      <td>Georgia Dome</td>\n",
       "      <td>NO</td>\n",
       "      <td>-3.0</td>\n",
       "      <td>52.0</td>\n",
       "      <td>72.0</td>\n",
       "      <td>...</td>\n",
       "      <td>ATL</td>\n",
       "      <td>NO</td>\n",
       "      <td>0</td>\n",
       "      <td>2</td>\n",
       "      <td>ATL</td>\n",
       "      <td>NO</td>\n",
       "      <td>1.0</td>\n",
       "      <td>0.0</td>\n",
       "      <td>52.00</td>\n",
       "      <td>1</td>\n",
       "    </tr>\n",
       "    <tr>\n",
       "      <th>2</th>\n",
       "      <td>2014-09-07</td>\n",
       "      <td>2014</td>\n",
       "      <td>1</td>\n",
       "      <td>Baltimore Ravens</td>\n",
       "      <td>Cincinnati Bengals</td>\n",
       "      <td>M&amp;T Bank Stadium</td>\n",
       "      <td>BAL</td>\n",
       "      <td>-1.5</td>\n",
       "      <td>42.5</td>\n",
       "      <td>78.0</td>\n",
       "      <td>...</td>\n",
       "      <td>BAL</td>\n",
       "      <td>CIN</td>\n",
       "      <td>1</td>\n",
       "      <td>1</td>\n",
       "      <td>CIN</td>\n",
       "      <td>BAL</td>\n",
       "      <td>0.0</td>\n",
       "      <td>1.0</td>\n",
       "      <td>61.50</td>\n",
       "      <td>0</td>\n",
       "    </tr>\n",
       "    <tr>\n",
       "      <th>3</th>\n",
       "      <td>2014-09-07</td>\n",
       "      <td>2014</td>\n",
       "      <td>1</td>\n",
       "      <td>Chicago Bears</td>\n",
       "      <td>Buffalo Bills</td>\n",
       "      <td>Soldier Field</td>\n",
       "      <td>CHI</td>\n",
       "      <td>-6.5</td>\n",
       "      <td>47.0</td>\n",
       "      <td>77.0</td>\n",
       "      <td>...</td>\n",
       "      <td>CHI</td>\n",
       "      <td>BUF</td>\n",
       "      <td>1</td>\n",
       "      <td>0</td>\n",
       "      <td>BUF</td>\n",
       "      <td>CHI</td>\n",
       "      <td>0.0</td>\n",
       "      <td>1.0</td>\n",
       "      <td>54.00</td>\n",
       "      <td>0</td>\n",
       "    </tr>\n",
       "    <tr>\n",
       "      <th>4</th>\n",
       "      <td>2014-09-07</td>\n",
       "      <td>2014</td>\n",
       "      <td>1</td>\n",
       "      <td>Dallas Cowboys</td>\n",
       "      <td>San Francisco 49ers</td>\n",
       "      <td>Cowboys Stadium</td>\n",
       "      <td>SF</td>\n",
       "      <td>-3.5</td>\n",
       "      <td>51.0</td>\n",
       "      <td>72.0</td>\n",
       "      <td>...</td>\n",
       "      <td>DAL</td>\n",
       "      <td>SF</td>\n",
       "      <td>0</td>\n",
       "      <td>0</td>\n",
       "      <td>SF</td>\n",
       "      <td>DAL</td>\n",
       "      <td>0.0</td>\n",
       "      <td>1.0</td>\n",
       "      <td>51.25</td>\n",
       "      <td>0</td>\n",
       "    </tr>\n",
       "  </tbody>\n",
       "</table>\n",
       "<p>5 rows × 70 columns</p>\n",
       "</div>"
      ],
      "text/plain": [
       "         date  season_year  week         home_team            away_team  \\\n",
       "0  2014-09-04         2014     1  Seattle Seahawks    Green Bay Packers   \n",
       "1  2014-09-07         2014     1   Atlanta Falcons   New Orleans Saints   \n",
       "2  2014-09-07         2014     1  Baltimore Ravens   Cincinnati Bengals   \n",
       "3  2014-09-07         2014     1     Chicago Bears        Buffalo Bills   \n",
       "4  2014-09-07         2014     1    Dallas Cowboys  San Francisco 49ers   \n",
       "\n",
       "             stadium team_favorite  spread  over/under  weather_temperature  \\\n",
       "0  CenturyLink Field           SEA    -5.5        46.5                 70.0   \n",
       "1       Georgia Dome            NO    -3.0        52.0                 72.0   \n",
       "2   M&T Bank Stadium           BAL    -1.5        42.5                 78.0   \n",
       "3      Soldier Field           CHI    -6.5        47.0                 77.0   \n",
       "4    Cowboys Stadium            SF    -3.5        51.0                 72.0   \n",
       "\n",
       "    ...    home_id  away_id  home_favorite  favorite_covered winner loser  \\\n",
       "0   ...        SEA       GB              1                 1    SEA    GB   \n",
       "1   ...        ATL       NO              0                 2    ATL    NO   \n",
       "2   ...        BAL      CIN              1                 1    CIN   BAL   \n",
       "3   ...        CHI      BUF              1                 0    BUF   CHI   \n",
       "4   ...        DAL       SF              0                 0     SF   DAL   \n",
       "\n",
       "   home_win_rate  away_win_rate  cum_avg_points  target  \n",
       "0            1.0            0.0            0.00       1  \n",
       "1            1.0            0.0           52.00       1  \n",
       "2            0.0            1.0           61.50       0  \n",
       "3            0.0            1.0           54.00       0  \n",
       "4            0.0            1.0           51.25       0  \n",
       "\n",
       "[5 rows x 70 columns]"
      ]
     },
     "execution_count": 34,
     "metadata": {},
     "output_type": "execute_result"
    }
   ],
   "source": [
    "betting_df.head()"
   ]
  },
  {
   "cell_type": "markdown",
   "metadata": {},
   "source": [
    "### Examaning Correlations"
   ]
  },
  {
   "cell_type": "markdown",
   "metadata": {},
   "source": [
    "- Created a correlation heatmap to find the strongest correlations with over/under\n",
    "- Only displaying positive correlations"
   ]
  },
  {
   "cell_type": "code",
   "execution_count": 35,
   "metadata": {},
   "outputs": [
    {
     "data": {
      "image/png": "[encoded data removed]",
      "text/plain": [
       "<Figure size 432x576 with 2 Axes>"
      ]
     },
     "metadata": {
      "needs_background": "light"
     },
     "output_type": "display_data"
    }
   ],
   "source": [
    "plt.figure(figsize=(6,8))\n",
    "ax = sns.heatmap(betting_df.corr()[['target', 'over/under']].sort_values('target',ascending=False)[:30],annot=True)\n",
    "ax.set_yticklabels(ax.yaxis.get_ticklabels(), fontsize=14)\n",
    "plt.title('Highest Over/Under Correlations');"
   ]
  },
  {
   "cell_type": "markdown",
   "metadata": {},
   "source": [
    "### Visualizations\n"
   ]
  },
  {
   "cell_type": "code",
   "execution_count": 85,
   "metadata": {},
   "outputs": [
    {
     "data": {
      "text/plain": [
       "Text(0, 0.5, 'Over/Under')"
      ]
     },
     "execution_count": 85,
     "metadata": {},
     "output_type": "execute_result"
    },
    {
     "data": {
      "image/png": "[encoded data removed]",
      "text/plain": [
       "<Figure size 1080x1224 with 2 Axes>"
      ]
     },
     "metadata": {
      "needs_background": "light"
     },
     "output_type": "display_data"
    }
   ],
   "source": [
    "plt.figure(figsize = (15,17))\n",
    "\n",
    "ax1 = plt.subplot(221)\n",
    "ax1.set_title('The Temperatures Affect on Total Points Scored', fontsize=15)\n",
    "ax1.scatter(betting_df['weather_temperature'], betting_df['total_points'])\n",
    "plt.xlabel('Temperature')\n",
    "plt.ylabel('Total Points')\n",
    "\n",
    "\n",
    "ax2 = plt.subplot(222)\n",
    "ax2.set_title('The Winds Affect on Set Over/Under', fontsize=15)\n",
    "ax2.scatter(betting_df['weather_wind_mph'], betting_df['over/under'])\n",
    "plt.xlabel('Wind MPH')\n",
    "plt.ylabel('Over/Under')\n",
    "\n",
    "\n",
    "# ax3 = plt.subplot(223)\n",
    "# ax3.set_title('Actual Points Scored vs. Vegas Predicted Points Scored', fontsize=15)\n",
    "# ax3.scatter(betting_df['total_points'], betting_df['over/under'])\n",
    "# plt.xlabel('Actual')\n",
    "# plt.ylabel('Predicted')\n",
    "\n",
    "# ax4 = plt.subplot(224)\n",
    "# ax4.set_title('Season Year vs Total Points', fontsize=15)\n",
    "# ax4.scatter(betting_df['week'], betting_df['total_points'])\n",
    "# plt.xlabel('Season Year')\n",
    "# plt.ylabel('Total Points')\n"
   ]
  },
  {
   "cell_type": "code",
   "execution_count": 84,
   "metadata": {},
   "outputs": [
    {
     "data": {
      "image/png": "[encoded data removed]",
      "text/plain": [
       "<Figure size 432x432 with 3 Axes>"
      ]
     },
     "metadata": {
      "needs_background": "light"
     },
     "output_type": "display_data"
    }
   ],
   "source": [
    "sns.jointplot(x=\"total_points\", y=\"over/under\", data=betting_df, kind=\"kde\");"
   ]
  },
  {
   "cell_type": "markdown",
   "metadata": {},
   "source": [
    " - Getting an in-depth look into a few features that seemed unique when related to the over/under\n",
    "     - Interesting how temperature isn't as big of a factor on total points scored."
   ]
  },
  {
   "cell_type": "code",
   "execution_count": 37,
   "metadata": {},
   "outputs": [
    {
     "name": "stderr",
     "output_type": "stream",
     "text": [
      "/anaconda3/envs/dsi/lib/python3.6/site-packages/seaborn/categorical.py:454: FutureWarning: remove_na is deprecated and is a private function. Do not use.\n",
      "  box_data = remove_na(group_data)\n"
     ]
    },
    {
     "data": {
      "image/png": "[encoded data removed]",
      "text/plain": [
       "<Figure size 864x576 with 1 Axes>"
      ]
     },
     "metadata": {
      "needs_background": "light"
     },
     "output_type": "display_data"
    }
   ],
   "source": [
    "var = 'weather_wind_mph'\n",
    "data = pd.concat([betting_df['total_points'], betting_df[var]], axis=1)\n",
    "f, ax =plt.subplots(figsize=(12,8))\n",
    "fig = sns.boxplot(x=var, y='total_points', data=data)\n",
    "plt.title('The Stronger the Wind the Lower the Score', fontsize=20)\n",
    "fig.axis(ymin=0, ymax=100)\n",
    "plt.show();"
   ]
  },
  {
   "cell_type": "code",
   "execution_count": 122,
   "metadata": {},
   "outputs": [
    {
     "data": {
      "image/png": "[encoded data removed]",
      "text/plain": [
       "<Figure size 1152x360 with 1 Axes>"
      ]
     },
     "metadata": {
      "needs_background": "light"
     },
     "output_type": "display_data"
    }
   ],
   "source": [
    "plt.figure(figsize=(16,5))\n",
    "ax = sns.barplot(x=\"total_points\", y=\"total_points\", data=betting_df, estimator=lambda x: len(x) / len(betting_df) * 100)\n",
    "ax.set(ylabel=\"Percent\")\n",
    "plt.title('Percent of Total Points Scored per Game', fontsize=15);\n"
   ]
  },
  {
   "cell_type": "code",
   "execution_count": 40,
   "metadata": {},
   "outputs": [
    {
     "name": "stderr",
     "output_type": "stream",
     "text": [
      "/anaconda3/envs/dsi/lib/python3.6/site-packages/matplotlib/axes/_axes.py:6521: MatplotlibDeprecationWarning: \n",
      "The 'normed' kwarg was deprecated in Matplotlib 2.1 and will be removed in 3.1. Use 'density' instead.\n",
      "  alternative=\"'density'\", removal=\"3.1\")\n"
     ]
    },
    {
     "data": {
      "image/png": "[encoded data removed]",
      "text/plain": [
       "<Figure size 576x432 with 1 Axes>"
      ]
     },
     "metadata": {
      "needs_background": "light"
     },
     "output_type": "display_data"
    }
   ],
   "source": [
    "plt.figure(figsize=(8,6))\n",
    "sns.distplot(betting_df['total_points'], kde=True)\n",
    "plt.title('Distribution of Total Points', fontsize=17);"
   ]
  },
  {
   "cell_type": "code",
   "execution_count": 41,
   "metadata": {},
   "outputs": [
    {
     "data": {
      "text/plain": [
       "45.007590132827325"
      ]
     },
     "execution_count": 41,
     "metadata": {},
     "output_type": "execute_result"
    }
   ],
   "source": [
    "betting_df['total_points'].mean()"
   ]
  },
  {
   "cell_type": "code",
   "execution_count": 58,
   "metadata": {},
   "outputs": [
    {
     "name": "stderr",
     "output_type": "stream",
     "text": [
      "/anaconda3/envs/dsi/lib/python3.6/site-packages/matplotlib/axes/_axes.py:6521: MatplotlibDeprecationWarning: \n",
      "The 'normed' kwarg was deprecated in Matplotlib 2.1 and will be removed in 3.1. Use 'density' instead.\n",
      "  alternative=\"'density'\", removal=\"3.1\")\n"
     ]
    },
    {
     "data": {
      "image/png": "[encoded data removed]",
      "text/plain": [
       "<Figure size 576x432 with 1 Axes>"
      ]
     },
     "metadata": {
      "needs_background": "light"
     },
     "output_type": "display_data"
    }
   ],
   "source": [
    "plt.figure(figsize=(8,6))\n",
    "sns.distplot(betting_df['over/under'])\n",
    "plt.title('Distribution of Over Under Lines', fontsize=17);"
   ]
  },
  {
   "cell_type": "code",
   "execution_count": 74,
   "metadata": {},
   "outputs": [
    {
     "data": {
      "image/png": "[encoded data removed]",
      "text/plain": [
       "<Figure size 576x432 with 1 Axes>"
      ]
     },
     "metadata": {
      "needs_background": "light"
     },
     "output_type": "display_data"
    }
   ],
   "source": [
    "plt.figure(figsize=(8,6))\n",
    "plt.hist(betting_df['total_points'], bins= 15, label='Total Points')\n",
    "plt.hist(betting_df['over/under'], bins= 15, alpha=0.5, label='Over/Under')\n",
    "plt.xlabel('Points')\n",
    "plt.ylabel('Frequency')\n",
    "plt.title('Total Points Distribution vs. Over/Under Line', fontsize=17)\n",
    "plt.legend(loc='upper right');"
   ]
  },
  {
   "cell_type": "markdown",
   "metadata": {},
   "source": [
    "- #### Explored the correlations each had with the Over/Under line related to the target, as well as with each other to limit multicollinearity."
   ]
  },
  {
   "cell_type": "markdown",
   "metadata": {},
   "source": [
    "### Saving Data"
   ]
  },
  {
   "cell_type": "code",
   "execution_count": 75,
   "metadata": {},
   "outputs": [],
   "source": [
    "betting_df.to_csv('../Data/betting_df_processed.csv', index=False)"
   ]
  },
  {
   "cell_type": "code",
   "execution_count": null,
   "metadata": {},
   "outputs": [],
   "source": []
  }
 ],
 "metadata": {
  "kernelspec": {
   "display_name": "Python 3",
   "language": "python",
   "name": "python3"
  },
  "language_info": {
   "codemirror_mode": {
    "name": "ipython",
    "version": 3
   },
   "file_extension": ".py",
   "mimetype": "text/x-python",
   "name": "python",
   "nbconvert_exporter": "python",
   "pygments_lexer": "ipython3",
   "version": "3.6.5"
  }
 },
 "nbformat": 4,
 "nbformat_minor": 2
}
