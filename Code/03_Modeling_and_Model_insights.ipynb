{
 "cells": [
  {
   "cell_type": "markdown",
   "metadata": {},
   "source": [
    "## <u>Model Benchmarks</u>"
   ]
  },
  {
   "cell_type": "markdown",
   "metadata": {},
   "source": [
    "#### External Libraries"
   ]
  },
  {
   "cell_type": "code",
   "execution_count": null,
   "metadata": {},
   "outputs": [],
   "source": [
    "# ! pip install xgboost"
   ]
  },
  {
   "cell_type": "code",
   "execution_count": 78,
   "metadata": {},
   "outputs": [],
   "source": [
    "import pandas as pd\n",
    "import numpy as np\n",
    "import matplotlib.pyplot as plt\n",
    "import statsmodels.api as sm\n",
    "import seaborn as sns\n",
    "from collections import Counter\n",
    "\n",
    "from sklearn.externals.six import StringIO\n",
    "from sklearn.linear_model import  LogisticRegression\n",
    "from sklearn.preprocessing import StandardScaler, PolynomialFeatures\n",
    "from sklearn.model_selection import train_test_split, cross_val_score, KFold, GridSearchCV\n",
    "from sklearn.metrics import r2_score, mean_squared_error, accuracy_score, confusion_matrix, accuracy_score, precision_score, recall_score\n",
    "from sklearn.tree import export_graphviz, DecisionTreeClassifier\n",
    "from sklearn.ensemble import BaggingClassifier, RandomForestClassifier, AdaBoostClassifier\n",
    "from pactools.grid_search import GridSearchCVProgressBar\n",
    "from xgboost import XGBClassifier\n",
    "from sklearn.svm import SVR, SVC\n",
    "from ClassificationMetrics import ClassificationMetrics\n",
    "from sklearn.decomposition import PCA\n",
    "import warnings\n",
    "warnings.filterwarnings('ignore')\n",
    "import pydotplus\n",
    "\n",
    "%matplotlib inline"
   ]
  },
  {
   "cell_type": "code",
   "execution_count": 52,
   "metadata": {},
   "outputs": [],
   "source": [
    "betting_df = pd.read_csv('../Data/betting_df_processed.csv')"
   ]
  },
  {
   "cell_type": "markdown",
   "metadata": {},
   "source": [
    "#### Read in Data"
   ]
  },
  {
   "cell_type": "markdown",
   "metadata": {},
   "source": [
    "### <U>Logistic Regression Time Series</U>"
   ]
  },
  {
   "cell_type": "code",
   "execution_count": 18,
   "metadata": {},
   "outputs": [
    {
     "data": {
      "text/plain": [
       "843.2"
      ]
     },
     "execution_count": 18,
     "metadata": {},
     "output_type": "execute_result"
    }
   ],
   "source": [
    "# What index gives us our 80th percentile of rows?\n",
    "# betting_df.shape[0] * .8"
   ]
  },
  {
   "cell_type": "code",
   "execution_count": 195,
   "metadata": {},
   "outputs": [],
   "source": [
    "features = ['stadium_type_dome', 'weather_wind_mph', 'weather_temperature', 'season_year', \n",
    "            'home_win_rate', 'away_win_rate', 'away_line_odds_open', 'home_line_odds_open', 'over/under', 'home_favorite',\n",
    "            'spread', 'stadium_type_rain_|_fog', 'cum_avg_points']\n",
    "\n",
    "X = betting_df[features]\n",
    "y = betting_df['target']\n"
   ]
  },
  {
   "cell_type": "code",
   "execution_count": 196,
   "metadata": {},
   "outputs": [],
   "source": [
    "#Set training data to be first 80% of rows.\n",
    "X_train = X.iloc[0:843]\n",
    "y_train = y.iloc[:843]"
   ]
  },
  {
   "cell_type": "code",
   "execution_count": 197,
   "metadata": {},
   "outputs": [],
   "source": [
    "#Set testing data to be last 20% of rows.\n",
    "X_test = X.iloc[843:]\n",
    "y_test = y.iloc[843:]"
   ]
  },
  {
   "cell_type": "code",
   "execution_count": 198,
   "metadata": {},
   "outputs": [],
   "source": [
    "#Scaling Data\n",
    "sc = StandardScaler()\n",
    "X_train_sc = sc.fit_transform(X_train)\n",
    "X_test_sc = sc.transform(X_test)"
   ]
  },
  {
   "cell_type": "code",
   "execution_count": 199,
   "metadata": {},
   "outputs": [],
   "source": [
    "poly = PolynomialFeatures(include_bias = False)\n",
    "poly = poly.fit(X_train_sc)\n",
    "poly_features = poly.get_feature_names(features)\n",
    "\n",
    "X_train_poly = pd.DataFrame(poly.transform(X_train_sc), columns=poly_features)\n",
    "X_test_poly = pd.DataFrame(poly.transform(X_test_sc), columns=poly_features)\n"
   ]
  },
  {
   "cell_type": "code",
   "execution_count": 69,
   "metadata": {},
   "outputs": [
    {
     "name": "stdout",
     "output_type": "stream",
     "text": [
      "Accuracy = \t0.4899759146484368\n"
     ]
    }
   ],
   "source": [
    "lr = LogisticRegression()\n",
    "lr.fit(X_train_poly, y_train)\n",
    "cv = cross_val_score(lr,X_train_poly, y_train).mean()\n",
    "train = lr.score(X_train_poly, y_train)\n",
    "test = lr.score(X_test_poly, y_test)\n",
    "print(f'Accuracy = \\t{cv}' )"
   ]
  },
  {
   "cell_type": "markdown",
   "metadata": {},
   "source": [
    "### <U>Logistic Regression</U>\n"
   ]
  },
  {
   "cell_type": "code",
   "execution_count": 201,
   "metadata": {},
   "outputs": [],
   "source": [
    "features = ['stadium_type_dome', 'weather_wind_mph', 'weather_temperature', 'season_year', \n",
    "            'home_win_rate', 'away_win_rate', 'away_line_odds_open', 'home_line_odds_open', 'over/under', 'home_favorite',\n",
    "            'spread', 'stadium_type_rain_|_fog', 'cum_avg_points']\n",
    "\n",
    "X = betting_df[features]\n",
    "y = betting_df['target']\n",
    "\n",
    "X_train, X_test, y_train, y_test = train_test_split(X, y, test_size = 0.3, random_state = 42, stratify = y)\n",
    "\n"
   ]
  },
  {
   "cell_type": "code",
   "execution_count": 202,
   "metadata": {},
   "outputs": [
    {
     "data": {
      "text/plain": [
       "0    0.518027\n",
       "1    0.481973\n",
       "Name: target, dtype: float64"
      ]
     },
     "execution_count": 202,
     "metadata": {},
     "output_type": "execute_result"
    }
   ],
   "source": [
    "y.value_counts(normalize=True)"
   ]
  },
  {
   "cell_type": "markdown",
   "metadata": {},
   "source": [
    "- Baseline is 51.8%. Meaning if you only bet the under everytime you would win 51.8% of the time"
   ]
  },
  {
   "cell_type": "code",
   "execution_count": 203,
   "metadata": {},
   "outputs": [],
   "source": [
    "#Scaling Data\n",
    "sc = StandardScaler()\n",
    "X_train_sc = sc.fit_transform(X_train)\n",
    "X_test_sc = sc.transform(X_test)"
   ]
  },
  {
   "cell_type": "code",
   "execution_count": 204,
   "metadata": {},
   "outputs": [],
   "source": [
    "poly = PolynomialFeatures(include_bias = False)\n",
    "poly = poly.fit(X_train_sc)\n",
    "poly_features = poly.get_feature_names(features)\n",
    "\n",
    "X_train_poly = pd.DataFrame(poly.transform(X_train_sc), columns=poly_features)\n",
    "X_test_poly = pd.DataFrame(poly.transform(X_test_sc), columns=poly_features)"
   ]
  },
  {
   "cell_type": "code",
   "execution_count": 205,
   "metadata": {},
   "outputs": [
    {
     "name": "stdout",
     "output_type": "stream",
     "text": [
      "Accuracy = \t0.49385000963948333\n"
     ]
    }
   ],
   "source": [
    "lr = LogisticRegression()\n",
    "lr.fit(X_train_poly, y_train)\n",
    "cv = cross_val_score(lr,X_train_poly, y_train).mean()\n",
    "train = lr.score(X_train_poly, y_train)\n",
    "test = lr.score(X_test_poly, y_test)\n",
    "print(f'Accuracy = \\t{cv}' )"
   ]
  },
  {
   "cell_type": "markdown",
   "metadata": {},
   "source": [
    "### <u>Random Forest Classifier</U>"
   ]
  },
  {
   "cell_type": "code",
   "execution_count": 188,
   "metadata": {},
   "outputs": [
    {
     "name": "stdout",
     "output_type": "stream",
     "text": [
      "Accuracy : 0.5292351758517172\n"
     ]
    }
   ],
   "source": [
    "# Instantiate Random Forest Classifier as rf.\n",
    "rf = RandomForestClassifier(n_estimators = 15,\n",
    "                            random_state = 12)\n",
    "\n",
    "# Fit on training data.\n",
    "model = rf.fit(X_train_poly, y_train)\n",
    "\n",
    "# Cross-Val Score on training data\n",
    "cv_score = cross_val_score(rf,X_train_poly,y_train, cv=3).mean()\n",
    "\n",
    "# Score on training data.\n",
    "rf_train = model.score(X_train_poly,y_train)\n",
    "\n",
    "# Score on testing data.\n",
    "rf_test = model.score(X_test_poly,y_test)\n",
    "\n",
    "print(f'Accuracy : {cv_score}')"
   ]
  },
  {
   "cell_type": "markdown",
   "metadata": {},
   "source": [
    "### <u>PCA</u>\n",
    "- With Polynomial transforms"
   ]
  },
  {
   "cell_type": "code",
   "execution_count": 189,
   "metadata": {},
   "outputs": [],
   "source": [
    "pca = PCA()\n",
    "pca = pca.fit(X_train_poly)"
   ]
  },
  {
   "cell_type": "code",
   "execution_count": 190,
   "metadata": {},
   "outputs": [],
   "source": [
    "Z_train = pd.DataFrame(pca.transform(X_train_poly))"
   ]
  },
  {
   "cell_type": "code",
   "execution_count": 191,
   "metadata": {},
   "outputs": [],
   "source": [
    "Z_test = pd.DataFrame(pca.transform(X_test_poly))"
   ]
  },
  {
   "cell_type": "code",
   "execution_count": 86,
   "metadata": {},
   "outputs": [
    {
     "data": {
      "text/html": [
       "<div>\n",
       "<style scoped>\n",
       "    .dataframe tbody tr th:only-of-type {\n",
       "        vertical-align: middle;\n",
       "    }\n",
       "\n",
       "    .dataframe tbody tr th {\n",
       "        vertical-align: top;\n",
       "    }\n",
       "\n",
       "    .dataframe thead th {\n",
       "        text-align: right;\n",
       "    }\n",
       "</style>\n",
       "<table border=\"1\" class=\"dataframe\">\n",
       "  <thead>\n",
       "    <tr style=\"text-align: right;\">\n",
       "      <th></th>\n",
       "      <th>0</th>\n",
       "      <th>1</th>\n",
       "      <th>2</th>\n",
       "      <th>3</th>\n",
       "      <th>4</th>\n",
       "      <th>5</th>\n",
       "      <th>6</th>\n",
       "      <th>7</th>\n",
       "      <th>8</th>\n",
       "      <th>9</th>\n",
       "      <th>...</th>\n",
       "      <th>94</th>\n",
       "      <th>95</th>\n",
       "      <th>96</th>\n",
       "      <th>97</th>\n",
       "      <th>98</th>\n",
       "      <th>99</th>\n",
       "      <th>100</th>\n",
       "      <th>101</th>\n",
       "      <th>102</th>\n",
       "      <th>103</th>\n",
       "    </tr>\n",
       "  </thead>\n",
       "  <tbody>\n",
       "    <tr>\n",
       "      <th>0</th>\n",
       "      <td>-1.015854</td>\n",
       "      <td>-0.926692</td>\n",
       "      <td>3.342189</td>\n",
       "      <td>0.831376</td>\n",
       "      <td>-2.316272</td>\n",
       "      <td>-3.619211</td>\n",
       "      <td>0.201280</td>\n",
       "      <td>0.972474</td>\n",
       "      <td>1.654971</td>\n",
       "      <td>-0.072771</td>\n",
       "      <td>...</td>\n",
       "      <td>2.830308e-16</td>\n",
       "      <td>-6.224506e-16</td>\n",
       "      <td>-6.434367e-17</td>\n",
       "      <td>8.265479e-16</td>\n",
       "      <td>4.181353e-17</td>\n",
       "      <td>5.302070e-16</td>\n",
       "      <td>-3.178232e-16</td>\n",
       "      <td>-1.568728e-16</td>\n",
       "      <td>-4.895960e-16</td>\n",
       "      <td>-1.713160e-14</td>\n",
       "    </tr>\n",
       "    <tr>\n",
       "      <th>1</th>\n",
       "      <td>-1.006444</td>\n",
       "      <td>-0.991169</td>\n",
       "      <td>1.219374</td>\n",
       "      <td>-1.847989</td>\n",
       "      <td>6.095592</td>\n",
       "      <td>2.711930</td>\n",
       "      <td>4.058821</td>\n",
       "      <td>0.542380</td>\n",
       "      <td>-1.207193</td>\n",
       "      <td>0.533545</td>\n",
       "      <td>...</td>\n",
       "      <td>-1.054547e-15</td>\n",
       "      <td>-5.030602e-16</td>\n",
       "      <td>5.705349e-16</td>\n",
       "      <td>4.353330e-16</td>\n",
       "      <td>-4.263308e-16</td>\n",
       "      <td>7.762516e-18</td>\n",
       "      <td>-8.209616e-16</td>\n",
       "      <td>-3.605589e-16</td>\n",
       "      <td>1.406670e-16</td>\n",
       "      <td>-2.696074e-16</td>\n",
       "    </tr>\n",
       "    <tr>\n",
       "      <th>2</th>\n",
       "      <td>-1.016125</td>\n",
       "      <td>-0.999618</td>\n",
       "      <td>1.014343</td>\n",
       "      <td>-0.914752</td>\n",
       "      <td>0.062639</td>\n",
       "      <td>-1.558086</td>\n",
       "      <td>-1.224591</td>\n",
       "      <td>1.413758</td>\n",
       "      <td>-1.118003</td>\n",
       "      <td>1.731448</td>\n",
       "      <td>...</td>\n",
       "      <td>-3.952994e-17</td>\n",
       "      <td>-1.260840e-15</td>\n",
       "      <td>3.645656e-16</td>\n",
       "      <td>4.746456e-16</td>\n",
       "      <td>5.204726e-16</td>\n",
       "      <td>-3.975662e-16</td>\n",
       "      <td>2.244278e-16</td>\n",
       "      <td>4.687312e-16</td>\n",
       "      <td>-9.275480e-16</td>\n",
       "      <td>-4.986914e-15</td>\n",
       "    </tr>\n",
       "    <tr>\n",
       "      <th>3</th>\n",
       "      <td>-1.005762</td>\n",
       "      <td>-0.991631</td>\n",
       "      <td>-2.110569</td>\n",
       "      <td>0.067987</td>\n",
       "      <td>0.440472</td>\n",
       "      <td>-0.959981</td>\n",
       "      <td>-0.205839</td>\n",
       "      <td>1.429215</td>\n",
       "      <td>0.570131</td>\n",
       "      <td>1.311407</td>\n",
       "      <td>...</td>\n",
       "      <td>6.054518e-17</td>\n",
       "      <td>-3.895130e-16</td>\n",
       "      <td>5.137718e-17</td>\n",
       "      <td>-3.579042e-16</td>\n",
       "      <td>9.835051e-17</td>\n",
       "      <td>7.684397e-17</td>\n",
       "      <td>8.302659e-17</td>\n",
       "      <td>9.292899e-17</td>\n",
       "      <td>2.217730e-16</td>\n",
       "      <td>-1.148537e-15</td>\n",
       "    </tr>\n",
       "    <tr>\n",
       "      <th>4</th>\n",
       "      <td>-1.005243</td>\n",
       "      <td>-1.033268</td>\n",
       "      <td>-2.013190</td>\n",
       "      <td>0.474936</td>\n",
       "      <td>-0.297854</td>\n",
       "      <td>-1.252584</td>\n",
       "      <td>-1.025643</td>\n",
       "      <td>0.668912</td>\n",
       "      <td>0.740939</td>\n",
       "      <td>-0.054341</td>\n",
       "      <td>...</td>\n",
       "      <td>-1.602611e-16</td>\n",
       "      <td>3.709982e-16</td>\n",
       "      <td>1.504445e-16</td>\n",
       "      <td>9.352131e-17</td>\n",
       "      <td>4.503019e-16</td>\n",
       "      <td>-4.554412e-16</td>\n",
       "      <td>-1.073710e-16</td>\n",
       "      <td>1.259154e-16</td>\n",
       "      <td>-2.135547e-17</td>\n",
       "      <td>-1.681234e-15</td>\n",
       "    </tr>\n",
       "  </tbody>\n",
       "</table>\n",
       "<p>5 rows × 104 columns</p>\n",
       "</div>"
      ],
      "text/plain": [
       "        0         1         2         3         4         5         6    \\\n",
       "0 -1.015854 -0.926692  3.342189  0.831376 -2.316272 -3.619211  0.201280   \n",
       "1 -1.006444 -0.991169  1.219374 -1.847989  6.095592  2.711930  4.058821   \n",
       "2 -1.016125 -0.999618  1.014343 -0.914752  0.062639 -1.558086 -1.224591   \n",
       "3 -1.005762 -0.991631 -2.110569  0.067987  0.440472 -0.959981 -0.205839   \n",
       "4 -1.005243 -1.033268 -2.013190  0.474936 -0.297854 -1.252584 -1.025643   \n",
       "\n",
       "        7         8         9        ...                94            95   \\\n",
       "0  0.972474  1.654971 -0.072771      ...       2.830308e-16 -6.224506e-16   \n",
       "1  0.542380 -1.207193  0.533545      ...      -1.054547e-15 -5.030602e-16   \n",
       "2  1.413758 -1.118003  1.731448      ...      -3.952994e-17 -1.260840e-15   \n",
       "3  1.429215  0.570131  1.311407      ...       6.054518e-17 -3.895130e-16   \n",
       "4  0.668912  0.740939 -0.054341      ...      -1.602611e-16  3.709982e-16   \n",
       "\n",
       "            96            97            98            99            100  \\\n",
       "0 -6.434367e-17  8.265479e-16  4.181353e-17  5.302070e-16 -3.178232e-16   \n",
       "1  5.705349e-16  4.353330e-16 -4.263308e-16  7.762516e-18 -8.209616e-16   \n",
       "2  3.645656e-16  4.746456e-16  5.204726e-16 -3.975662e-16  2.244278e-16   \n",
       "3  5.137718e-17 -3.579042e-16  9.835051e-17  7.684397e-17  8.302659e-17   \n",
       "4  1.504445e-16  9.352131e-17  4.503019e-16 -4.554412e-16 -1.073710e-16   \n",
       "\n",
       "            101           102           103  \n",
       "0 -1.568728e-16 -4.895960e-16 -1.713160e-14  \n",
       "1 -3.605589e-16  1.406670e-16 -2.696074e-16  \n",
       "2  4.687312e-16 -9.275480e-16 -4.986914e-15  \n",
       "3  9.292899e-17  2.217730e-16 -1.148537e-15  \n",
       "4  1.259154e-16 -2.135547e-17 -1.681234e-15  \n",
       "\n",
       "[5 rows x 104 columns]"
      ]
     },
     "execution_count": 86,
     "metadata": {},
     "output_type": "execute_result"
    }
   ],
   "source": [
    "Z_train.head()"
   ]
  },
  {
   "cell_type": "code",
   "execution_count": 88,
   "metadata": {},
   "outputs": [],
   "source": [
    "# Examine explained variance.\n",
    "var_exp = pca.explained_variance_ratio_\n",
    "\n",
    "\n",
    "# Examine cumulative explained variance.\n",
    "cum_var_exp = np.cumsum(var_exp)\n"
   ]
  },
  {
   "cell_type": "code",
   "execution_count": 89,
   "metadata": {},
   "outputs": [
    {
     "data": {
      "image/png": "[encoded data removed]",
      "text/plain": [
       "<Figure size 648x504 with 1 Axes>"
      ]
     },
     "metadata": {
      "needs_background": "light"
     },
     "output_type": "display_data"
    }
   ],
   "source": [
    "plt.figure(figsize=(9,7))\n",
    "\n",
    "# HERE IS THE BASIC PLOT\n",
    "\n",
    "# Plot the explained variance\n",
    "component_number = range(len(var_exp))\n",
    "plt.plot(component_number, var_exp, lw=3)\n",
    "\n",
    "# NOW MAKE IT LOOK PRETTY\n",
    "\n",
    "# Add horizontal lines at y=0 and y=100\n",
    "plt.axhline(y=0, linewidth=1, color='grey', ls='dashed')\n",
    "plt.axhline(y=1, linewidth=1, color='grey', ls='dashed')\n",
    "\n",
    "# Set the x and y axis limits\n",
    "ax = plt.gca()\n",
    "ax.set_xlim([-1,26])\n",
    "ax.set_ylim([-0.05,1.05])\n",
    "\n",
    "# Label the axes\n",
    "ax.set_ylabel('variance explained', fontsize=16)\n",
    "ax.set_xlabel('component', fontsize=16)\n",
    "\n",
    "# Make the tick labels bigger\n",
    "for tick in ax.xaxis.get_major_ticks():\n",
    "    tick.label.set_fontsize(12) \n",
    "for tick in ax.yaxis.get_major_ticks():\n",
    "    tick.label.set_fontsize(12) \n",
    "    \n",
    "# Add title\n",
    "ax.set_title('Component vs Variance Explained\\n', fontsize=20)\n",
    "\n",
    "plt.show()"
   ]
  },
  {
   "cell_type": "code",
   "execution_count": 90,
   "metadata": {},
   "outputs": [
    {
     "data": {
      "image/png": "[encoded data removed]",
      "text/plain": [
       "<Figure size 648x504 with 1 Axes>"
      ]
     },
     "metadata": {
      "needs_background": "light"
     },
     "output_type": "display_data"
    }
   ],
   "source": [
    "plt.figure(figsize=(9,7))\n",
    "\n",
    "# HERE IS THE BASIC PLOT\n",
    "\n",
    "# Plot the cumulative explained variance\n",
    "component_number = range(len(cum_var_exp))\n",
    "plt.plot(component_number, cum_var_exp, lw=3)\n",
    "\n",
    "# NOW MAKE IT LOOK PRETTY\n",
    "\n",
    "# Add horizontal lines at y=0 and y=100\n",
    "plt.axhline(y=0, linewidth=1, color='grey', ls='dashed')\n",
    "plt.axhline(y=1, linewidth=1, color='grey', ls='dashed')\n",
    "\n",
    "# Set the x and y axis limits\n",
    "ax = plt.gca()\n",
    "ax.set_xlim([-1,26])\n",
    "ax.set_ylim([-0.05,1.05])\n",
    "\n",
    "# Label the axes\n",
    "ax.set_ylabel('cumulative variance explained', fontsize=16)\n",
    "ax.set_xlabel('component', fontsize=16)\n",
    "\n",
    "# Make the tick labels bigger\n",
    "for tick in ax.xaxis.get_major_ticks():\n",
    "    tick.label.set_fontsize(12) \n",
    "for tick in ax.yaxis.get_major_ticks():\n",
    "    tick.label.set_fontsize(12) \n",
    "    \n",
    "# Add title\n",
    "ax.set_title('Component vs Cumulative variance explained\\n', fontsize=20)\n",
    "\n",
    "plt.show()"
   ]
  },
  {
   "cell_type": "markdown",
   "metadata": {},
   "source": [
    "### PCA\n",
    "- without polynomial transforms"
   ]
  },
  {
   "cell_type": "code",
   "execution_count": 91,
   "metadata": {},
   "outputs": [],
   "source": [
    "pca = PCA()\n",
    "pca = pca.fit(X_train_sc)"
   ]
  },
  {
   "cell_type": "code",
   "execution_count": 93,
   "metadata": {},
   "outputs": [],
   "source": [
    "Z_train = pd.DataFrame(pca.transform(X_train_sc))\n",
    "Z_test = pd.DataFrame(pca.transform(X_test_sc))"
   ]
  },
  {
   "cell_type": "code",
   "execution_count": 94,
   "metadata": {},
   "outputs": [
    {
     "data": {
      "text/html": [
       "<div>\n",
       "<style scoped>\n",
       "    .dataframe tbody tr th:only-of-type {\n",
       "        vertical-align: middle;\n",
       "    }\n",
       "\n",
       "    .dataframe tbody tr th {\n",
       "        vertical-align: top;\n",
       "    }\n",
       "\n",
       "    .dataframe thead th {\n",
       "        text-align: right;\n",
       "    }\n",
       "</style>\n",
       "<table border=\"1\" class=\"dataframe\">\n",
       "  <thead>\n",
       "    <tr style=\"text-align: right;\">\n",
       "      <th></th>\n",
       "      <th>0</th>\n",
       "      <th>1</th>\n",
       "      <th>2</th>\n",
       "      <th>3</th>\n",
       "      <th>4</th>\n",
       "      <th>5</th>\n",
       "      <th>6</th>\n",
       "      <th>7</th>\n",
       "      <th>8</th>\n",
       "      <th>9</th>\n",
       "      <th>10</th>\n",
       "      <th>11</th>\n",
       "      <th>12</th>\n",
       "    </tr>\n",
       "  </thead>\n",
       "  <tbody>\n",
       "    <tr>\n",
       "      <th>0</th>\n",
       "      <td>-2.242138</td>\n",
       "      <td>1.299991</td>\n",
       "      <td>-1.107336</td>\n",
       "      <td>0.327903</td>\n",
       "      <td>-0.597256</td>\n",
       "      <td>0.299375</td>\n",
       "      <td>-0.974192</td>\n",
       "      <td>1.128789</td>\n",
       "      <td>1.526062</td>\n",
       "      <td>0.499872</td>\n",
       "      <td>-1.810828</td>\n",
       "      <td>-0.595186</td>\n",
       "      <td>0.071460</td>\n",
       "    </tr>\n",
       "    <tr>\n",
       "      <th>1</th>\n",
       "      <td>2.677410</td>\n",
       "      <td>1.761009</td>\n",
       "      <td>0.100627</td>\n",
       "      <td>1.725089</td>\n",
       "      <td>0.388377</td>\n",
       "      <td>-0.088777</td>\n",
       "      <td>-0.019408</td>\n",
       "      <td>0.048233</td>\n",
       "      <td>0.623827</td>\n",
       "      <td>-0.306565</td>\n",
       "      <td>-0.006430</td>\n",
       "      <td>1.117259</td>\n",
       "      <td>-0.063088</td>\n",
       "    </tr>\n",
       "    <tr>\n",
       "      <th>2</th>\n",
       "      <td>1.517701</td>\n",
       "      <td>0.227959</td>\n",
       "      <td>0.838950</td>\n",
       "      <td>-1.351039</td>\n",
       "      <td>-1.081499</td>\n",
       "      <td>0.425789</td>\n",
       "      <td>-0.470862</td>\n",
       "      <td>-0.193134</td>\n",
       "      <td>0.005933</td>\n",
       "      <td>0.749729</td>\n",
       "      <td>-2.289926</td>\n",
       "      <td>-0.510415</td>\n",
       "      <td>0.021618</td>\n",
       "    </tr>\n",
       "    <tr>\n",
       "      <th>3</th>\n",
       "      <td>0.550394</td>\n",
       "      <td>0.747439</td>\n",
       "      <td>0.192927</td>\n",
       "      <td>1.100145</td>\n",
       "      <td>-0.715151</td>\n",
       "      <td>0.928598</td>\n",
       "      <td>0.713917</td>\n",
       "      <td>0.996410</td>\n",
       "      <td>-0.704714</td>\n",
       "      <td>-0.854436</td>\n",
       "      <td>0.517319</td>\n",
       "      <td>-0.068071</td>\n",
       "      <td>-0.058616</td>\n",
       "    </tr>\n",
       "    <tr>\n",
       "      <th>4</th>\n",
       "      <td>-0.683680</td>\n",
       "      <td>0.729370</td>\n",
       "      <td>-0.203894</td>\n",
       "      <td>-1.268540</td>\n",
       "      <td>0.105215</td>\n",
       "      <td>-0.812825</td>\n",
       "      <td>-0.761816</td>\n",
       "      <td>0.002593</td>\n",
       "      <td>0.576681</td>\n",
       "      <td>0.303732</td>\n",
       "      <td>0.069116</td>\n",
       "      <td>-0.394989</td>\n",
       "      <td>-0.061892</td>\n",
       "    </tr>\n",
       "  </tbody>\n",
       "</table>\n",
       "</div>"
      ],
      "text/plain": [
       "         0         1         2         3         4         5         6   \\\n",
       "0 -2.242138  1.299991 -1.107336  0.327903 -0.597256  0.299375 -0.974192   \n",
       "1  2.677410  1.761009  0.100627  1.725089  0.388377 -0.088777 -0.019408   \n",
       "2  1.517701  0.227959  0.838950 -1.351039 -1.081499  0.425789 -0.470862   \n",
       "3  0.550394  0.747439  0.192927  1.100145 -0.715151  0.928598  0.713917   \n",
       "4 -0.683680  0.729370 -0.203894 -1.268540  0.105215 -0.812825 -0.761816   \n",
       "\n",
       "         7         8         9         10        11        12  \n",
       "0  1.128789  1.526062  0.499872 -1.810828 -0.595186  0.071460  \n",
       "1  0.048233  0.623827 -0.306565 -0.006430  1.117259 -0.063088  \n",
       "2 -0.193134  0.005933  0.749729 -2.289926 -0.510415  0.021618  \n",
       "3  0.996410 -0.704714 -0.854436  0.517319 -0.068071 -0.058616  \n",
       "4  0.002593  0.576681  0.303732  0.069116 -0.394989 -0.061892  "
      ]
     },
     "execution_count": 94,
     "metadata": {},
     "output_type": "execute_result"
    }
   ],
   "source": [
    "Z_train.head()"
   ]
  },
  {
   "cell_type": "code",
   "execution_count": 97,
   "metadata": {},
   "outputs": [],
   "source": [
    "# Examine explained variance.\n",
    "var_exp = pca.explained_variance_ratio_\n",
    "\n",
    "\n",
    "# Examine cumulative explained variance.\n",
    "cum_var_exp = np.cumsum(var_exp)\n"
   ]
  },
  {
   "cell_type": "code",
   "execution_count": 98,
   "metadata": {},
   "outputs": [
    {
     "data": {
      "image/png": "[encoded data removed]",
      "text/plain": [
       "<Figure size 648x504 with 1 Axes>"
      ]
     },
     "metadata": {
      "needs_background": "light"
     },
     "output_type": "display_data"
    }
   ],
   "source": [
    "plt.figure(figsize=(9,7))\n",
    "\n",
    "# HERE IS THE BASIC PLOT\n",
    "\n",
    "# Plot the explained variance\n",
    "component_number = range(len(var_exp))\n",
    "plt.plot(component_number, var_exp, lw=3)\n",
    "\n",
    "# NOW MAKE IT LOOK PRETTY\n",
    "\n",
    "# Add horizontal lines at y=0 and y=100\n",
    "plt.axhline(y=0, linewidth=1, color='grey', ls='dashed')\n",
    "plt.axhline(y=1, linewidth=1, color='grey', ls='dashed')\n",
    "\n",
    "# Set the x and y axis limits\n",
    "ax = plt.gca()\n",
    "ax.set_xlim([-1,26])\n",
    "ax.set_ylim([-0.05,1.05])\n",
    "\n",
    "# Label the axes\n",
    "ax.set_ylabel('variance explained', fontsize=16)\n",
    "ax.set_xlabel('component', fontsize=16)\n",
    "\n",
    "# Make the tick labels bigger\n",
    "for tick in ax.xaxis.get_major_ticks():\n",
    "    tick.label.set_fontsize(12) \n",
    "for tick in ax.yaxis.get_major_ticks():\n",
    "    tick.label.set_fontsize(12) \n",
    "    \n",
    "# Add title\n",
    "ax.set_title('Component vs Variance Explained\\n', fontsize=20)\n",
    "\n",
    "plt.show()"
   ]
  },
  {
   "cell_type": "code",
   "execution_count": 99,
   "metadata": {},
   "outputs": [
    {
     "data": {
      "image/png": "[encoded data removed]",
      "text/plain": [
       "<Figure size 648x504 with 1 Axes>"
      ]
     },
     "metadata": {
      "needs_background": "light"
     },
     "output_type": "display_data"
    }
   ],
   "source": [
    "plt.figure(figsize=(9,7))\n",
    "\n",
    "# HERE IS THE BASIC PLOT\n",
    "\n",
    "# Plot the cumulative explained variance\n",
    "component_number = range(len(cum_var_exp))\n",
    "plt.plot(component_number, cum_var_exp, lw=3)\n",
    "\n",
    "# NOW MAKE IT LOOK PRETTY\n",
    "\n",
    "# Add horizontal lines at y=0 and y=100\n",
    "plt.axhline(y=0, linewidth=1, color='grey', ls='dashed')\n",
    "plt.axhline(y=1, linewidth=1, color='grey', ls='dashed')\n",
    "\n",
    "# Set the x and y axis limits\n",
    "ax = plt.gca()\n",
    "ax.set_xlim([-1,26])\n",
    "ax.set_ylim([-0.05,1.05])\n",
    "\n",
    "# Label the axes\n",
    "ax.set_ylabel('cumulative variance explained', fontsize=16)\n",
    "ax.set_xlabel('component', fontsize=16)\n",
    "\n",
    "# Make the tick labels bigger\n",
    "for tick in ax.xaxis.get_major_ticks():\n",
    "    tick.label.set_fontsize(12) \n",
    "for tick in ax.yaxis.get_major_ticks():\n",
    "    tick.label.set_fontsize(12) \n",
    "    \n",
    "# Add title\n",
    "ax.set_title('Component vs Cumulative variance explained\\n', fontsize=20)\n",
    "\n",
    "plt.show()"
   ]
  },
  {
   "cell_type": "markdown",
   "metadata": {},
   "source": [
    "### Logistic Regression with PCA"
   ]
  },
  {
   "cell_type": "code",
   "execution_count": 126,
   "metadata": {},
   "outputs": [],
   "source": [
    "pca = PCA(n_components=9)\n",
    "pca = pca.fit(X_train_sc)"
   ]
  },
  {
   "cell_type": "code",
   "execution_count": 127,
   "metadata": {},
   "outputs": [
    {
     "data": {
      "text/plain": [
       "0.5678233438485805"
      ]
     },
     "execution_count": 127,
     "metadata": {},
     "output_type": "execute_result"
    }
   ],
   "source": [
    "# Generate Z_train and Z_test.\n",
    "Z_train = pca.transform(X_train_sc)\n",
    "Z_test = pca.transform(X_test_sc)\n",
    "\n",
    "# Instantiate LR model.\n",
    "lr = LogisticRegression()\n",
    "\n",
    "# Fit and score.\n",
    "lr.fit(Z_train, y_train)\n",
    "lr.score(Z_test, y_test)"
   ]
  },
  {
   "cell_type": "code",
   "execution_count": 128,
   "metadata": {},
   "outputs": [
    {
     "data": {
      "text/plain": [
       "0.5208443174076598"
      ]
     },
     "execution_count": 128,
     "metadata": {},
     "output_type": "execute_result"
    }
   ],
   "source": [
    "cross_val_score(lr, Z_train, y_train, cv=7).mean()"
   ]
  },
  {
   "cell_type": "markdown",
   "metadata": {},
   "source": [
    "### XGBoost Classifier with PCA"
   ]
  },
  {
   "cell_type": "code",
   "execution_count": 138,
   "metadata": {},
   "outputs": [],
   "source": [
    "pca = PCA(n_components=9)\n",
    "pca = pca.fit(X_train_sc)"
   ]
  },
  {
   "cell_type": "code",
   "execution_count": 139,
   "metadata": {},
   "outputs": [
    {
     "data": {
      "text/plain": [
       "0.5457413249211357"
      ]
     },
     "execution_count": 139,
     "metadata": {},
     "output_type": "execute_result"
    }
   ],
   "source": [
    "# Generate Z_train and Z_test.\n",
    "Z_train = pca.transform(X_train_sc)\n",
    "Z_test = pca.transform(X_test_sc)\n",
    "\n",
    "# Instantiate LR model.\n",
    "xg = XGBClassifier()\n",
    "\n",
    "# Fit and score.\n",
    "xg.fit(Z_train, y_train)\n",
    "xg.score(Z_test, y_test)"
   ]
  },
  {
   "cell_type": "code",
   "execution_count": 140,
   "metadata": {},
   "outputs": [
    {
     "data": {
      "text/plain": [
       "0.46402160283561905"
      ]
     },
     "execution_count": 140,
     "metadata": {},
     "output_type": "execute_result"
    }
   ],
   "source": [
    "cross_val_score(xg, Z_train, y_train, cv=7).mean()"
   ]
  },
  {
   "cell_type": "markdown",
   "metadata": {},
   "source": [
    "### Grid Search using PCA and XGBoost"
   ]
  },
  {
   "cell_type": "code",
   "execution_count": 141,
   "metadata": {},
   "outputs": [],
   "source": [
    "params = {\n",
    "        'n_estimators'  : np.arange(100, 151, 25), \n",
    "        'learning_rate' : np.arange(0.1, 1, .3),\n",
    "        'max_depth' : [3],\n",
    "        'reg_alpha' : np.arange(0, 1, .3),\n",
    "        'reg_lambda' : np.arange(0, 1, .3),\n",
    "        'gamma' : np.arange(0, 1, .3),\n",
    "        'subsample' : [.5],\n",
    "        'n_jobs' : [4],\n",
    "        }"
   ]
  },
  {
   "cell_type": "code",
   "execution_count": 142,
   "metadata": {},
   "outputs": [],
   "source": [
    "def gridsearch_summary(X_train, X_test, y_train, y_test, model_name, model, model_params, problem = 'classification'):\n",
    "    '''\n",
    "    Arguments:\n",
    "    X_train, X_test, y_train, y_test : vectorized train test split of X and y\n",
    "    model_name : str name of model\n",
    "    model : model constructor\n",
    "        example: 'LogisticRegression' : LogisticRegression()\n",
    "    model_params : dictionary of param_grids for GridSearch\n",
    "        example: 'LogisticRegression' : {\n",
    "                      'penalty' : ['l1', 'l2'],\n",
    "                      'C' : [.1, 1, 10] }\n",
    "    problem : str of problem type: 'classification' or 'regression'\n",
    "    \n",
    "    Return:\n",
    "    summary_df : a single row DataFrame containing the GridSearch model and its \n",
    "              best model, predictions, and scores.\n",
    "    '''   \n",
    "    problem = problem.lower()\n",
    "    \n",
    "    if problem != 'regression' and problem != 'classification':\n",
    "        print('Invalid problem type. Try \"regression\" or \"classification\"')\n",
    "        return\n",
    "\n",
    "    summary = {}\n",
    "\n",
    "    # Track progress\n",
    "    print(f'Fitting {model_name}')\n",
    "\n",
    "    # GridSearch\n",
    "    gs = GridSearchCVProgressBar(model, model_params, cv = 5)\n",
    "    gs.fit(X_train, y_train)\n",
    "\n",
    "    # Make predictions\n",
    "    y_train_pred = gs.best_estimator_.predict(X_train)\n",
    "    y_test_pred = gs.best_estimator_.predict(X_test)\n",
    "\n",
    "    # Build summary\n",
    "    summary['Model Name'] = model_name\n",
    "    summary['Train Pred'] = y_train_pred\n",
    "    summary['Test Pred'] = y_test_pred\n",
    "    summary['Best Score'] = gs.best_score_\n",
    "    summary['Best Params'] = gs.best_params_\n",
    "    summary['Best Estimator'] = gs.best_estimator_\n",
    "    summary['Grid Search Model'] = gs\n",
    "\n",
    "    if problem == 'regression':\n",
    "        summary['Train Score'] = r2_score(y_train, y_train_pred)\n",
    "        summary['Test Score'] = r2_score(y_test, y_test_pred)\n",
    "    elif problem == 'classification':\n",
    "        summary['Train Score'] = accuracy_score(y_train, y_train_pred)\n",
    "        summary['Test Score'] = accuracy_score(y_test, y_test_pred)\n",
    "    \n",
    "    # Construct output dataframe \n",
    "    summary_df = pd.DataFrame([summary])\n",
    "\n",
    "    # Rearrange columns\n",
    "    summary_df = summary_df[['Model Name', 'Best Params', 'Best Score', 'Best Estimator',\n",
    "                             'Train Score', 'Test Score', 'Train Pred', 'Test Pred', 'Grid Search Model']]\n",
    "        \n",
    "    return summary_df"
   ]
  },
  {
   "cell_type": "code",
   "execution_count": 143,
   "metadata": {},
   "outputs": [
    {
     "name": "stdout",
     "output_type": "stream",
     "text": [
      "Fitting XGBoostClassifier\n",
      "[........................................] 100% | 181.31 sec | GridSearchCV \n"
     ]
    }
   ],
   "source": [
    "grid_search = gridsearch_summary(Z_train, Z_test, y_train, y_test, \"XGBoostClassifier\", XGBClassifier(), params,\n",
    "                   problem = 'classification')\n",
    "\n",
    "\n"
   ]
  },
  {
   "cell_type": "code",
   "execution_count": 144,
   "metadata": {},
   "outputs": [
    {
     "data": {
      "text/html": [
       "<div>\n",
       "<style scoped>\n",
       "    .dataframe tbody tr th:only-of-type {\n",
       "        vertical-align: middle;\n",
       "    }\n",
       "\n",
       "    .dataframe tbody tr th {\n",
       "        vertical-align: top;\n",
       "    }\n",
       "\n",
       "    .dataframe thead th {\n",
       "        text-align: right;\n",
       "    }\n",
       "</style>\n",
       "<table border=\"1\" class=\"dataframe\">\n",
       "  <thead>\n",
       "    <tr style=\"text-align: right;\">\n",
       "      <th></th>\n",
       "      <th>Model Name</th>\n",
       "      <th>Best Params</th>\n",
       "      <th>Best Score</th>\n",
       "      <th>Best Estimator</th>\n",
       "      <th>Train Score</th>\n",
       "      <th>Test Score</th>\n",
       "      <th>Train Pred</th>\n",
       "      <th>Test Pred</th>\n",
       "      <th>Grid Search Model</th>\n",
       "    </tr>\n",
       "  </thead>\n",
       "  <tbody>\n",
       "    <tr>\n",
       "      <th>0</th>\n",
       "      <td>XGBoostClassifier</td>\n",
       "      <td>{'gamma': 0.3, 'learning_rate': 0.700000000000...</td>\n",
       "      <td>0.542741</td>\n",
       "      <td>XGBClassifier(base_score=0.5, booster='gbtree'...</td>\n",
       "      <td>0.993216</td>\n",
       "      <td>0.498423</td>\n",
       "      <td>[0, 0, 1, 1, 1, 1, 0, 0, 0, 0, 0, 1, 0, 1, 0, ...</td>\n",
       "      <td>[1, 1, 0, 0, 1, 0, 0, 0, 1, 1, 0, 1, 1, 0, 0, ...</td>\n",
       "      <td>GridSearchCVProgressBar(cv=5, error_score='rai...</td>\n",
       "    </tr>\n",
       "  </tbody>\n",
       "</table>\n",
       "</div>"
      ],
      "text/plain": [
       "          Model Name                                        Best Params  \\\n",
       "0  XGBoostClassifier  {'gamma': 0.3, 'learning_rate': 0.700000000000...   \n",
       "\n",
       "   Best Score                                     Best Estimator  Train Score  \\\n",
       "0    0.542741  XGBClassifier(base_score=0.5, booster='gbtree'...     0.993216   \n",
       "\n",
       "   Test Score                                         Train Pred  \\\n",
       "0    0.498423  [0, 0, 1, 1, 1, 1, 0, 0, 0, 0, 0, 1, 0, 1, 0, ...   \n",
       "\n",
       "                                           Test Pred  \\\n",
       "0  [1, 1, 0, 0, 1, 0, 0, 0, 1, 1, 0, 1, 1, 0, 0, ...   \n",
       "\n",
       "                                   Grid Search Model  \n",
       "0  GridSearchCVProgressBar(cv=5, error_score='rai...  "
      ]
     },
     "execution_count": 144,
     "metadata": {},
     "output_type": "execute_result"
    }
   ],
   "source": [
    "grid_search"
   ]
  },
  {
   "cell_type": "code",
   "execution_count": null,
   "metadata": {},
   "outputs": [],
   "source": [
    "grid_search['Best Params'][0]"
   ]
  },
  {
   "cell_type": "code",
   "execution_count": null,
   "metadata": {},
   "outputs": [],
   "source": []
  },
  {
   "cell_type": "markdown",
   "metadata": {},
   "source": [
    "### <u>Grid search using XGBoost Classifier</U>"
   ]
  },
  {
   "cell_type": "code",
   "execution_count": 167,
   "metadata": {},
   "outputs": [],
   "source": [
    "#Scaling Data\n",
    "sc = StandardScaler()\n",
    "X_train_sc = sc.fit_transform(X_train)\n",
    "X_test_sc = sc.transform(X_test)"
   ]
  },
  {
   "cell_type": "code",
   "execution_count": 168,
   "metadata": {},
   "outputs": [],
   "source": [
    "poly = PolynomialFeatures(include_bias = False)\n",
    "poly = poly.fit(X_train_sc)\n",
    "poly_features = poly.get_feature_names(features)\n",
    "\n",
    "X_train_poly = pd.DataFrame(poly.transform(X_train_sc), columns=poly_features)\n",
    "X_test_poly = pd.DataFrame(poly.transform(X_test_sc), columns=poly_features)\n"
   ]
  },
  {
   "cell_type": "code",
   "execution_count": 169,
   "metadata": {},
   "outputs": [
    {
     "name": "stdout",
     "output_type": "stream",
     "text": [
      "XGBoost Cross Validation Score 0.5102009132420091\n"
     ]
    }
   ],
   "source": [
    "xg = XGBClassifier()\n",
    "xg.fit(X_train_poly, y_train)\n",
    "xg_cv = cross_val_score(xg, X_train_poly, y_train, cv=10).mean()\n",
    "print('XGBoost Cross Validation Score {}' .format(xg_cv))"
   ]
  },
  {
   "cell_type": "code",
   "execution_count": 170,
   "metadata": {},
   "outputs": [
    {
     "data": {
      "text/plain": [
       "0.4921135646687697"
      ]
     },
     "execution_count": 170,
     "metadata": {},
     "output_type": "execute_result"
    }
   ],
   "source": [
    "xg.score(X_test_poly, y_test)"
   ]
  },
  {
   "cell_type": "code",
   "execution_count": 159,
   "metadata": {},
   "outputs": [
    {
     "name": "stdout",
     "output_type": "stream",
     "text": [
      "Fitting XGBoostClassifier\n",
      "[........................................] 100% | 1216.21 sec | GridSearchCV \n"
     ]
    }
   ],
   "source": [
    "grid_search = gridsearch_summary(X_train_poly, X_test_poly, y_train, y_test, \"XGBoostClassifier\", XGBClassifier(), params,\n",
    "                   problem = 'classification')\n",
    "\n",
    "\n"
   ]
  },
  {
   "cell_type": "code",
   "execution_count": 161,
   "metadata": {},
   "outputs": [
    {
     "data": {
      "text/html": [
       "<div>\n",
       "<style scoped>\n",
       "    .dataframe tbody tr th:only-of-type {\n",
       "        vertical-align: middle;\n",
       "    }\n",
       "\n",
       "    .dataframe tbody tr th {\n",
       "        vertical-align: top;\n",
       "    }\n",
       "\n",
       "    .dataframe thead th {\n",
       "        text-align: right;\n",
       "    }\n",
       "</style>\n",
       "<table border=\"1\" class=\"dataframe\">\n",
       "  <thead>\n",
       "    <tr style=\"text-align: right;\">\n",
       "      <th></th>\n",
       "      <th>Model Name</th>\n",
       "      <th>Best Params</th>\n",
       "      <th>Best Score</th>\n",
       "      <th>Best Estimator</th>\n",
       "      <th>Train Score</th>\n",
       "      <th>Test Score</th>\n",
       "      <th>Train Pred</th>\n",
       "      <th>Test Pred</th>\n",
       "      <th>Grid Search Model</th>\n",
       "    </tr>\n",
       "  </thead>\n",
       "  <tbody>\n",
       "    <tr>\n",
       "      <th>0</th>\n",
       "      <td>XGBoostClassifier</td>\n",
       "      <td>{'gamma': 0.8999999999999999, 'learning_rate':...</td>\n",
       "      <td>0.56445</td>\n",
       "      <td>XGBClassifier(base_score=0.5, booster='gbtree'...</td>\n",
       "      <td>1.0</td>\n",
       "      <td>0.514196</td>\n",
       "      <td>[0, 0, 1, 1, 1, 1, 1, 0, 0, 0, 0, 1, 0, 1, 0, ...</td>\n",
       "      <td>[0, 1, 1, 0, 1, 1, 0, 1, 1, 1, 0, 1, 1, 0, 0, ...</td>\n",
       "      <td>GridSearchCVProgressBar(cv=5, error_score='rai...</td>\n",
       "    </tr>\n",
       "  </tbody>\n",
       "</table>\n",
       "</div>"
      ],
      "text/plain": [
       "          Model Name                                        Best Params  \\\n",
       "0  XGBoostClassifier  {'gamma': 0.8999999999999999, 'learning_rate':...   \n",
       "\n",
       "   Best Score                                     Best Estimator  Train Score  \\\n",
       "0     0.56445  XGBClassifier(base_score=0.5, booster='gbtree'...          1.0   \n",
       "\n",
       "   Test Score                                         Train Pred  \\\n",
       "0    0.514196  [0, 0, 1, 1, 1, 1, 1, 0, 0, 0, 0, 1, 0, 1, 0, ...   \n",
       "\n",
       "                                           Test Pred  \\\n",
       "0  [0, 1, 1, 0, 1, 1, 0, 1, 1, 1, 0, 1, 1, 0, 0, ...   \n",
       "\n",
       "                                   Grid Search Model  \n",
       "0  GridSearchCVProgressBar(cv=5, error_score='rai...  "
      ]
     },
     "execution_count": 161,
     "metadata": {},
     "output_type": "execute_result"
    }
   ],
   "source": [
    "grid_search"
   ]
  },
  {
   "cell_type": "code",
   "execution_count": 171,
   "metadata": {},
   "outputs": [
    {
     "data": {
      "text/plain": [
       "{'gamma': 0.8999999999999999,\n",
       " 'learning_rate': 0.7000000000000001,\n",
       " 'max_depth': 3,\n",
       " 'n_estimators': 100,\n",
       " 'n_jobs': 4,\n",
       " 'reg_alpha': 0.8999999999999999,\n",
       " 'reg_lambda': 0.0,\n",
       " 'subsample': 0.5}"
      ]
     },
     "execution_count": 171,
     "metadata": {},
     "output_type": "execute_result"
    }
   ],
   "source": [
    "grid_search['Best Params'][0]"
   ]
  },
  {
   "cell_type": "markdown",
   "metadata": {},
   "source": [
    "###  <u>Generating Predictions for Confusion Matrix</u>"
   ]
  },
  {
   "cell_type": "code",
   "execution_count": 172,
   "metadata": {},
   "outputs": [],
   "source": [
    "gs_model = grid_search['Grid Search Model'][0]"
   ]
  },
  {
   "cell_type": "code",
   "execution_count": 173,
   "metadata": {},
   "outputs": [
    {
     "data": {
      "text/plain": [
       "GridSearchCVProgressBar(cv=5, error_score='raise',\n",
       "            estimator=XGBClassifier(base_score=0.5, booster='gbtree', colsample_bylevel=1,\n",
       "       colsample_bytree=1, gamma=0, learning_rate=0.1, max_delta_step=0,\n",
       "       max_depth=3, min_child_weight=1, missing=None, n_estimators=100,\n",
       "       n_jobs=1, nthread=None, objective='binary:logistic', random_state=0,\n",
       "       reg_alpha=0, reg_lambda=1, scale_pos_weight=1, seed=None,\n",
       "       silent=True, subsample=1),\n",
       "            fit_params=None, iid=True, n_jobs=1,\n",
       "            param_grid={'n_estimators': array([100, 125, 150]), 'learning_rate': array([0.1, 0.4, 0.7]), 'max_depth': [3], 'reg_alpha': array([0. , 0.3, 0.6, 0.9]), 'reg_lambda': array([0. , 0.3, 0.6, 0.9]), 'gamma': array([0. , 0.3, 0.6, 0.9]), 'subsample': [0.5], 'n_jobs': [4]},\n",
       "            pre_dispatch='2*n_jobs', refit=True, return_train_score='warn',\n",
       "            scoring=None, verbose=0)"
      ]
     },
     "execution_count": 173,
     "metadata": {},
     "output_type": "execute_result"
    }
   ],
   "source": [
    "gs_model"
   ]
  },
  {
   "cell_type": "code",
   "execution_count": 174,
   "metadata": {},
   "outputs": [
    {
     "data": {
      "text/plain": [
       "XGBClassifier(base_score=0.5, booster='gbtree', colsample_bylevel=1,\n",
       "       colsample_bytree=1, gamma=0.8999999999999999,\n",
       "       learning_rate=0.7000000000000001, max_delta_step=0, max_depth=3,\n",
       "       min_child_weight=1, missing=None, n_estimators=100, n_jobs=4,\n",
       "       nthread=None, objective='binary:logistic', random_state=0,\n",
       "       reg_alpha=0.8999999999999999, reg_lambda=0.0, scale_pos_weight=1,\n",
       "       seed=None, silent=True, subsample=0.5)"
      ]
     },
     "execution_count": 174,
     "metadata": {},
     "output_type": "execute_result"
    }
   ],
   "source": [
    "gs_model.best_estimator_"
   ]
  },
  {
   "cell_type": "code",
   "execution_count": 176,
   "metadata": {},
   "outputs": [
    {
     "data": {
      "text/plain": [
       "array([0, 1, 1, 0, 1, 1, 0, 1, 1, 1, 0, 1, 1, 0, 0, 0, 0, 1, 1, 1, 0, 1,\n",
       "       0, 0, 0, 0, 1, 1, 1, 0, 0, 0, 1, 0, 0, 1, 1, 1, 0, 1, 0, 0, 0, 1,\n",
       "       0, 1, 1, 0, 0, 0, 0, 0, 1, 1, 0, 0, 0, 0, 1, 1, 0, 0, 1, 0, 0, 1,\n",
       "       0, 1, 1, 0, 0, 0, 0, 1, 1, 1, 1, 1, 0, 0, 1, 1, 0, 0, 0, 0, 1, 0,\n",
       "       1, 1, 1, 0, 1, 1, 0, 1, 1, 0, 1, 0, 0, 0, 0, 0, 1, 0, 1, 0, 1, 0,\n",
       "       1, 0, 0, 0, 1, 0, 1, 1, 0, 1, 1, 1, 0, 0, 0, 0, 0, 1, 1, 0, 0, 0,\n",
       "       1, 1, 1, 0, 1, 0, 1, 1, 0, 1, 1, 1, 0, 0, 1, 0, 0, 1, 0, 0, 1, 0,\n",
       "       1, 0, 1, 1, 0, 0, 0, 0, 1, 1, 0, 1, 0, 0, 0, 1, 0, 0, 1, 1, 1, 1,\n",
       "       0, 1, 1, 1, 0, 0, 1, 0, 0, 0, 0, 1, 1, 1, 0, 1, 0, 0, 0, 0, 0, 0,\n",
       "       1, 1, 0, 0, 1, 0, 1, 1, 1, 1, 0, 0, 0, 1, 1, 1, 0, 0, 1, 0, 1, 1,\n",
       "       1, 0, 1, 1, 1, 1, 0, 0, 0, 1, 1, 0, 1, 0, 1, 1, 0, 1, 1, 1, 0, 1,\n",
       "       1, 1, 0, 0, 1, 0, 1, 0, 1, 1, 0, 1, 0, 0, 1, 0, 1, 0, 1, 1, 1, 0,\n",
       "       1, 1, 0, 0, 0, 1, 0, 0, 1, 0, 1, 0, 0, 0, 1, 0, 1, 0, 0, 1, 1, 0,\n",
       "       1, 0, 0, 0, 0, 0, 1, 1, 0, 0, 1, 1, 1, 0, 0, 1, 0, 1, 1, 0, 0, 0,\n",
       "       1, 1, 0, 0, 1, 0, 0, 1, 1])"
      ]
     },
     "execution_count": 176,
     "metadata": {},
     "output_type": "execute_result"
    }
   ],
   "source": [
    "gs_model.predict(X_test_poly)"
   ]
  },
  {
   "cell_type": "code",
   "execution_count": 192,
   "metadata": {},
   "outputs": [],
   "source": [
    "# y_hat = gs_model.predict(X_test_poly)\n",
    "y_hat =rf.predict(X_test_poly)"
   ]
  },
  {
   "cell_type": "code",
   "execution_count": 194,
   "metadata": {},
   "outputs": [
    {
     "data": {
      "text/plain": [
       "array([[96, 68],\n",
       "       [93, 60]])"
      ]
     },
     "execution_count": 194,
     "metadata": {},
     "output_type": "execute_result"
    }
   ],
   "source": [
    "# cm = confusion_matrix(y_test, y_hat)\n",
    "# cm\n",
    "cm = confusion_matrix(y_test, y_hat)\n",
    "cm"
   ]
  },
  {
   "cell_type": "markdown",
   "metadata": {},
   "source": [
    "- Converting confusion matrix into a Data Frame"
   ]
  },
  {
   "cell_type": "code",
   "execution_count": 206,
   "metadata": {},
   "outputs": [
    {
     "data": {
      "text/html": [
       "<div>\n",
       "<style scoped>\n",
       "    .dataframe tbody tr th:only-of-type {\n",
       "        vertical-align: middle;\n",
       "    }\n",
       "\n",
       "    .dataframe tbody tr th {\n",
       "        vertical-align: top;\n",
       "    }\n",
       "\n",
       "    .dataframe thead th {\n",
       "        text-align: right;\n",
       "    }\n",
       "</style>\n",
       "<table border=\"1\" class=\"dataframe\">\n",
       "  <thead>\n",
       "    <tr style=\"text-align: right;\">\n",
       "      <th></th>\n",
       "      <th>predicted over</th>\n",
       "      <th>predicted under</th>\n",
       "    </tr>\n",
       "  </thead>\n",
       "  <tbody>\n",
       "    <tr>\n",
       "      <th>actual over</th>\n",
       "      <td>96</td>\n",
       "      <td>68</td>\n",
       "    </tr>\n",
       "    <tr>\n",
       "      <th>actual under</th>\n",
       "      <td>93</td>\n",
       "      <td>60</td>\n",
       "    </tr>\n",
       "  </tbody>\n",
       "</table>\n",
       "</div>"
      ],
      "text/plain": [
       "              predicted over  predicted under\n",
       "actual over               96               68\n",
       "actual under              93               60"
      ]
     },
     "execution_count": 206,
     "metadata": {},
     "output_type": "execute_result"
    }
   ],
   "source": [
    "cm_df = pd.DataFrame(data=cm, columns=['predicted over', 'predicted under'],\n",
    "                     index=['actual over', 'actual under'])\n",
    "cm_df"
   ]
  },
  {
   "cell_type": "markdown",
   "metadata": {},
   "source": [
    "- 96 True Positives. Predicted 96 correctly that were over the predetermined over/under\n",
    "- 60 True Negatives. Predicted 60 correctlty that were under the predetermined over/under"
   ]
  },
  {
   "cell_type": "markdown",
   "metadata": {},
   "source": [
    "### <u>Metrics<u>"
   ]
  },
  {
   "cell_type": "code",
   "execution_count": 207,
   "metadata": {},
   "outputs": [],
   "source": [
    "cm_metrics = ClassificationMetrics()"
   ]
  },
  {
   "cell_type": "code",
   "execution_count": 208,
   "metadata": {},
   "outputs": [],
   "source": [
    "cm_metrics.fit(y_test, y_hat)"
   ]
  },
  {
   "cell_type": "code",
   "execution_count": 209,
   "metadata": {},
   "outputs": [
    {
     "data": {
      "text/html": [
       "<div>\n",
       "<style scoped>\n",
       "    .dataframe tbody tr th:only-of-type {\n",
       "        vertical-align: middle;\n",
       "    }\n",
       "\n",
       "    .dataframe tbody tr th {\n",
       "        vertical-align: top;\n",
       "    }\n",
       "\n",
       "    .dataframe thead th {\n",
       "        text-align: right;\n",
       "    }\n",
       "</style>\n",
       "<table border=\"1\" class=\"dataframe\">\n",
       "  <thead>\n",
       "    <tr style=\"text-align: right;\">\n",
       "      <th></th>\n",
       "      <th>Metric</th>\n",
       "    </tr>\n",
       "  </thead>\n",
       "  <tbody>\n",
       "    <tr>\n",
       "      <th>Accuracy</th>\n",
       "      <td>0.492114</td>\n",
       "    </tr>\n",
       "    <tr>\n",
       "      <th>False Negative Rate</th>\n",
       "      <td>0.359788</td>\n",
       "    </tr>\n",
       "    <tr>\n",
       "      <th>False Positive Rate</th>\n",
       "      <td>0.414634</td>\n",
       "    </tr>\n",
       "    <tr>\n",
       "      <th>Misclassification</th>\n",
       "      <td>0.507886</td>\n",
       "    </tr>\n",
       "    <tr>\n",
       "      <th>Negative Predictive Value</th>\n",
       "      <td>0.507937</td>\n",
       "    </tr>\n",
       "    <tr>\n",
       "      <th>Precision</th>\n",
       "      <td>0.468750</td>\n",
       "    </tr>\n",
       "    <tr>\n",
       "      <th>Sensitivity</th>\n",
       "      <td>0.392157</td>\n",
       "    </tr>\n",
       "    <tr>\n",
       "      <th>Specificity</th>\n",
       "      <td>0.585366</td>\n",
       "    </tr>\n",
       "  </tbody>\n",
       "</table>\n",
       "</div>"
      ],
      "text/plain": [
       "                             Metric\n",
       "Accuracy                   0.492114\n",
       "False Negative Rate        0.359788\n",
       "False Positive Rate        0.414634\n",
       "Misclassification          0.507886\n",
       "Negative Predictive Value  0.507937\n",
       "Precision                  0.468750\n",
       "Sensitivity                0.392157\n",
       "Specificity                0.585366"
      ]
     },
     "execution_count": 209,
     "metadata": {},
     "output_type": "execute_result"
    }
   ],
   "source": [
    "cm_metrics.describe()"
   ]
  },
  {
   "cell_type": "code",
   "execution_count": null,
   "metadata": {},
   "outputs": [],
   "source": []
  }
 ],
 "metadata": {
  "kernelspec": {
   "display_name": "Python 3",
   "language": "python",
   "name": "python3"
  },
  "language_info": {
   "codemirror_mode": {
    "name": "ipython",
    "version": 3
   },
   "file_extension": ".py",
   "mimetype": "text/x-python",
   "name": "python",
   "nbconvert_exporter": "python",
   "pygments_lexer": "ipython3",
   "version": "3.6.5"
  }
 },
 "nbformat": 4,
 "nbformat_minor": 2
}
